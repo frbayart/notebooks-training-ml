{
  "metadata" : {
    "id" : "82be6af6-3081-4bbf-b785-1c988189e560",
    "name" : "ml_logistic",
    "user_save_timestamp" : "1970-01-01T00:00:00.000Z",
    "auto_save_timestamp" : "1970-01-01T00:00:00.000Z",
    "language_info" : {
      "name" : "scala",
      "file_extension" : "scala",
      "codemirror_mode" : "text/x-scala"
    },
    "trusted" : true,
    "sparkNotebook" : null,
    "customLocalRepo" : null,
    "customRepos" : null,
    "customDeps" : null,
    "customImports" : null,
    "customArgs" : null,
    "customSparkConf" : {
      "spark.sql.shuffle.partitions" : 4
    },
    "customVars" : null
  },
  "cells" : [
    {
      "metadata" : {
        "id" : "183BC1814F5E482883ABAEAA214FBE00"
      },
      "cell_type" : "markdown",
      "source" : "#### Download the titanic dataset\n\nA dataset for classification, predicting the survival of passengers"
    },
    {
      "metadata" : {
        "trusted" : true,
        "input_collapsed" : false,
        "collapsed" : false,
        "id" : "3DB565E49A414699B76936E2F28C0899"
      },
      "cell_type" : "code",
      "source" : [
        "val remote = \"https://s3-eu-west-1.amazonaws.com/kensuio-training/data/titanic.csv\"\n",
        "val local = \"titanic.csv\""
      ],
      "outputs" : [ ]
    },
    {
      "metadata" : {
        "trusted" : true,
        "input_collapsed" : false,
        "collapsed" : false,
        "id" : "F7D752F04715489D81F05779E57528EA"
      },
      "cell_type" : "code",
      "source" : [
        "val dataDir = sys.props(\"java.io.tmpdir\") + \"/data/logistic_regression\"\n",
        "new java.io.File(dataDir).mkdirs()"
      ],
      "outputs" : [ ]
    },
    {
      "metadata" : {
        "id" : "5410650E89B74C3483F1B84A8DFF8C28"
      },
      "cell_type" : "markdown",
      "source" : "Remove file, because download will fail if it already exists"
    },
    {
      "metadata" : {
        "trusted" : true,
        "input_collapsed" : false,
        "collapsed" : false,
        "id" : "3D10FFC5AA4D4787844AEEC5657F0F1D"
      },
      "cell_type" : "code",
      "source" : [
        ":sh rm ${dataDir}/$local"
      ],
      "outputs" : [ ]
    },
    {
      "metadata" : {
        "trusted" : true,
        "input_collapsed" : false,
        "collapsed" : false,
        "id" : "A4FA7525CD414B3E9F0C9F10B3453215"
      },
      "cell_type" : "code",
      "source" : [
        "val source = scala.io.Source.fromURL(remote)\n",
        "val f = new java.io.FileWriter(new java.io.File(s\"${dataDir}/$local\"), false)\n",
        "source.foreach(f.append(_))\n",
        "f.close"
      ],
      "outputs" : [ ]
    },
    {
      "metadata" : {
        "id" : "867D2F81FF804965BFCC5937C2DA1E90"
      },
      "cell_type" : "markdown",
      "source" : "Read the csv file, letting spark infer the schema"
    },
    {
      "metadata" : {
        "trusted" : true,
        "input_collapsed" : false,
        "collapsed" : false,
        "id" : "613889F5A0DF499E844D2F601565FDEC"
      },
      "cell_type" : "code",
      "source" : [
        "val csvDF = sparkSession.read.option(\"inferSchema\", true)\n",
        "                             .option(\"header\", true)\n",
        "                             .csv(s\"${dataDir}/$local\")\n",
        "                             .filter(! isnull($\"survived\"))         "
      ],
      "outputs" : [ ]
    },
    {
      "metadata" : {
        "id" : "CF71B7320DEA4E9A8C7401AA67783CAE"
      },
      "cell_type" : "markdown",
      "source" : "## Explore the data\n\nFirst look at column names, then assess the nature of data:\n* numerical or categorical\n* missing values (null)\n* relevant columns\n* new features needed"
    },
    {
      "metadata" : {
        "trusted" : true,
        "input_collapsed" : false,
        "collapsed" : false,
        "presentation" : {
          "tabs_state" : "{\n  \"tab_id\": \"#tab1618752033-0\"\n}",
          "pivot_chart_state" : "{\n  \"hiddenAttributes\": [],\n  \"menuLimit\": 200,\n  \"cols\": [],\n  \"rows\": [],\n  \"vals\": [],\n  \"exclusions\": {},\n  \"inclusions\": {},\n  \"unusedAttrsVertical\": 85,\n  \"autoSortUnusedAttrs\": false,\n  \"inclusionsInfo\": {},\n  \"aggregatorName\": \"Count\",\n  \"rendererName\": \"Table\"\n}"
        },
        "id" : "CE1C8EE5679C4A0781D0DC7A0D1D5D18"
      },
      "cell_type" : "code",
      "source" : [
        "csvDF.columns\n"
      ],
      "outputs" : [ ]
    },
    {
      "metadata" : {
        "id" : "693BC04A5FFA454D82DE0BABEAAF77EA"
      },
      "cell_type" : "markdown",
      "source" : "A view of distinct values in a column give an idea of how to use them.\nThe column type as well."
    },
    {
      "metadata" : {
        "trusted" : true,
        "input_collapsed" : false,
        "collapsed" : false,
        "id" : "6F6BEF6B36884F5681510A0ABD3ABD27"
      },
      "cell_type" : "code",
      "source" : [
        "csvDF.select(\"pclass\").distinct"
      ],
      "outputs" : [ ]
    },
    {
      "metadata" : {
        "trusted" : true,
        "input_collapsed" : false,
        "collapsed" : false,
        "id" : "D7A550A7799A4B0E8FB61C299EBE09CB"
      },
      "cell_type" : "code",
      "source" : [
        "csvDF.filter(isnull($\"pclass\")).count"
      ],
      "outputs" : [ ]
    },
    {
      "metadata" : {
        "trusted" : true,
        "input_collapsed" : false,
        "collapsed" : false,
        "id" : "D72C8B13915C40D98DFAC1D9B0A285C0"
      },
      "cell_type" : "code",
      "source" : [
        "csvDF.select(\"survived\").distinct"
      ],
      "outputs" : [ ]
    },
    {
      "metadata" : {
        "trusted" : true,
        "input_collapsed" : false,
        "collapsed" : false,
        "id" : "E8F548BB30BE4CB19F98D2B11500420E"
      },
      "cell_type" : "code",
      "source" : [
        "csvDF.filter(isnull($\"survived\")).count"
      ],
      "outputs" : [ ]
    },
    {
      "metadata" : {
        "trusted" : true,
        "input_collapsed" : false,
        "collapsed" : false,
        "id" : "69E1BC4C4918434384444D89E159A9E6"
      },
      "cell_type" : "code",
      "source" : [
        "csvDF.select(\"sex\").distinct"
      ],
      "outputs" : [ ]
    },
    {
      "metadata" : {
        "trusted" : true,
        "input_collapsed" : false,
        "collapsed" : false,
        "id" : "839E8B2858A8430489B190157AD27394"
      },
      "cell_type" : "code",
      "source" : [
        "csvDF.filter(isnull($\"sex\")).count"
      ],
      "outputs" : [ ]
    },
    {
      "metadata" : {
        "trusted" : true,
        "input_collapsed" : false,
        "collapsed" : false,
        "id" : "02A3A149285D4C9E8451E77BF69613C8"
      },
      "cell_type" : "code",
      "source" : [
        "csvDF.select(\"age\").distinct"
      ],
      "outputs" : [ ]
    },
    {
      "metadata" : {
        "trusted" : true,
        "input_collapsed" : false,
        "collapsed" : false,
        "id" : "78D4FC00BC38498BB7876A7674383C31"
      },
      "cell_type" : "code",
      "source" : [
        "csvDF.filter(isnull($\"age\")).count"
      ],
      "outputs" : [ ]
    },
    {
      "metadata" : {
        "trusted" : true,
        "input_collapsed" : false,
        "collapsed" : false,
        "id" : "9AD7870BAED7435F81DA928F266E292B"
      },
      "cell_type" : "code",
      "source" : [
        "csvDF.select(\"sibsp\").distinct"
      ],
      "outputs" : [ ]
    },
    {
      "metadata" : {
        "trusted" : true,
        "input_collapsed" : false,
        "collapsed" : false,
        "id" : "2B81ED167AE64240BBF643D6DB0D918A"
      },
      "cell_type" : "code",
      "source" : [
        "csvDF.filter(isnull($\"sibsp\")).count"
      ],
      "outputs" : [ ]
    },
    {
      "metadata" : {
        "trusted" : true,
        "input_collapsed" : false,
        "collapsed" : false,
        "id" : "36D914C6773143C5B9DE37E0B9FBD2AF"
      },
      "cell_type" : "code",
      "source" : [
        "csvDF.select(\"parch\").distinct"
      ],
      "outputs" : [ ]
    },
    {
      "metadata" : {
        "trusted" : true,
        "input_collapsed" : false,
        "collapsed" : false,
        "id" : "8BFF57F800114EE78B89EFEA36FB6EF1"
      },
      "cell_type" : "code",
      "source" : [
        "csvDF.filter(isnull($\"parch\")).count"
      ],
      "outputs" : [ ]
    },
    {
      "metadata" : {
        "trusted" : true,
        "input_collapsed" : false,
        "collapsed" : false,
        "id" : "98E3BA7B40F142138E49125C30B17B1A"
      },
      "cell_type" : "code",
      "source" : [
        "csvDF.select(\"ticket\").distinct"
      ],
      "outputs" : [ ]
    },
    {
      "metadata" : {
        "trusted" : true,
        "input_collapsed" : false,
        "collapsed" : false,
        "id" : "212FA04484834F9C80FDCFB2D11F306F"
      },
      "cell_type" : "code",
      "source" : [
        "csvDF.select(\"fare\").distinct"
      ],
      "outputs" : [ ]
    },
    {
      "metadata" : {
        "trusted" : true,
        "input_collapsed" : false,
        "collapsed" : false,
        "id" : "86C58E10B12341A286015448CDA73690"
      },
      "cell_type" : "code",
      "source" : [
        "csvDF.filter(isnull($\"fare\")).count"
      ],
      "outputs" : [ ]
    },
    {
      "metadata" : {
        "trusted" : true,
        "input_collapsed" : false,
        "collapsed" : false,
        "id" : "FE2871A8316D4E86AF5B6EDD02C2DEBB"
      },
      "cell_type" : "code",
      "source" : [
        "csvDF.select(\"cabin\").distinct"
      ],
      "outputs" : [ ]
    },
    {
      "metadata" : {
        "trusted" : true,
        "input_collapsed" : false,
        "collapsed" : false,
        "presentation" : {
          "tabs_state" : "{\n  \"tab_id\": \"#tab2020818567-0\"\n}",
          "pivot_chart_state" : "{\n  \"hiddenAttributes\": [],\n  \"menuLimit\": 200,\n  \"cols\": [],\n  \"rows\": [],\n  \"vals\": [],\n  \"exclusions\": {},\n  \"inclusions\": {},\n  \"unusedAttrsVertical\": 85,\n  \"autoSortUnusedAttrs\": false,\n  \"inclusionsInfo\": {},\n  \"aggregatorName\": \"Count\",\n  \"rendererName\": \"Table\"\n}"
        },
        "id" : "C67E73FD87C74F3187341110F46D5856"
      },
      "cell_type" : "code",
      "source" : [
        "csvDF.select(\"name\").take(10)"
      ],
      "outputs" : [ ]
    },
    {
      "metadata" : {
        "id" : "BD6086BFEF6D4A10A8660304F2CBD97C"
      },
      "cell_type" : "markdown",
      "source" : "## Features transformations\n\nWe want to extract the title from the name, e.g. Mr or Miss. These could influence survival.\n\nWe are in the world of spark SQL, where UDF (User Defined Functions) must be created to perform custom transformations on columns.\n\n#### Title extraction as a new feature"
    },
    {
      "metadata" : {
        "trusted" : true,
        "input_collapsed" : false,
        "collapsed" : false,
        "id" : "19EF427453E8410998441CD0D8A93689"
      },
      "cell_type" : "code",
      "source" : [
        "val Pattern = \".*, (.*?)\\\\..*\".r\n",
        "val title: (String => String) = {\n",
        "  case Pattern(t) => t\n",
        "  case _ => \"\"\n",
        "}\n",
        "val titleUDF = udf(title)"
      ],
      "outputs" : [ ]
    },
    {
      "metadata" : {
        "trusted" : true,
        "input_collapsed" : false,
        "collapsed" : false,
        "id" : "2D62456710754DD7869EBB6282A1EDB9"
      },
      "cell_type" : "code",
      "source" : [
        "csvDF.select(\"name\").withColumn(\"title\", titleUDF(col(\"name\")))\n",
        "     .select(\"title\").distinct"
      ],
      "outputs" : [ ]
    },
    {
      "metadata" : {
        "id" : "F2DEBF93B2E94B35AA1A8FBE7842F8E1"
      },
      "cell_type" : "markdown",
      "source" : "#### filling missing values\n\nAs we have missing data in the age and fare columns (numerical data), we will replace these with the column average"
    },
    {
      "metadata" : {
        "trusted" : true,
        "input_collapsed" : false,
        "collapsed" : false,
        "id" : "DDA6527E49DA45FF8EC2245BBBB3A062"
      },
      "cell_type" : "code",
      "source" : [
        "val avgAge = csvDF.select(\"age\")\n",
        "  .agg(avg(\"age\"))\n",
        "  .collect() match {\n",
        "  case Array(Row(avg: Double)) => avg\n",
        "  case _ => 0\n",
        "}"
      ],
      "outputs" : [ ]
    },
    {
      "metadata" : {
        "trusted" : true,
        "input_collapsed" : false,
        "collapsed" : false,
        "id" : "A1BB74F89CAA473A8429D1A8B388651B"
      },
      "cell_type" : "code",
      "source" : [
        "val avgFare = csvDF.select(\"fare\")\n",
        "  .agg(avg(\"fare\"))\n",
        "  .collect() match {\n",
        "  case Array(Row(avg: Double)) => avg\n",
        "  case _ => 0\n",
        "}"
      ],
      "outputs" : [ ]
    },
    {
      "metadata" : {
        "trusted" : true,
        "input_collapsed" : false,
        "collapsed" : false,
        "id" : "08353106322D4C8D89BB7013C7306F0B"
      },
      "cell_type" : "code",
      "source" : [
        "val dfFilled = csvDF.withColumnRenamed(\"home.dest\", \"dest\")\n",
        "                    .na.fill(Map(\"fare\" -> avgFare, \"age\" -> avgAge))"
      ],
      "outputs" : [ ]
    },
    {
      "metadata" : {
        "trusted" : true,
        "input_collapsed" : false,
        "collapsed" : true,
        "id" : "A0D1D7318145465EAFB2ADAE1220CA7A"
      },
      "cell_type" : "code",
      "source" : [
        ""
      ],
      "outputs" : [ ]
    },
    {
      "metadata" : {
        "trusted" : true,
        "input_collapsed" : false,
        "collapsed" : false,
        "id" : "1E80E62D96DC49018F16E2C16356B019"
      },
      "cell_type" : "code",
      "source" : [
        "dfFilled.filter($\"name\" === \"Baumann, Mr. John D\").select(\"age\").show"
      ],
      "outputs" : [ ]
    },
    {
      "metadata" : {
        "trusted" : true,
        "input_collapsed" : false,
        "collapsed" : false,
        "id" : "0BD4C645A24F49A887C08A5306569D00"
      },
      "cell_type" : "code",
      "source" : [
        "val frame = dfFilled.withColumn(\"title\", titleUDF(col(\"name\")))"
      ],
      "outputs" : [ ]
    },
    {
      "metadata" : {
        "trusted" : true,
        "input_collapsed" : false,
        "collapsed" : true,
        "id" : "409A97D7DE8D4B3C87DC77B7B1D53F0F"
      },
      "cell_type" : "markdown",
      "source" : "## Now create clean categorical representations of features\n\nCategorical variables to be used are:\n* survived\n* pclass\n* title\n* sex\n\nWe will not use:\n* name\n* ticket\n* cabin\n* embarked\n* boat\n* body\n* home.dest"
    },
    {
      "metadata" : {
        "id" : "EE27D085364043FB8215D97C8043E4E9"
      },
      "cell_type" : "markdown",
      "source" : "#### Spark ml feature transformers and extractors\n\nWe will use some of the Spark ml feature manipulation Classes:"
    },
    {
      "metadata" : {
        "trusted" : true,
        "input_collapsed" : false,
        "collapsed" : false,
        "id" : "6205D78640D745D0AAC91173CB904DD8"
      },
      "cell_type" : "code",
      "source" : [
        "import org.apache.spark.ml.feature.StringIndexer\n",
        "import org.apache.spark.ml.feature.IndexToString\n",
        "import org.apache.spark.ml.feature.VectorAssembler"
      ],
      "outputs" : [ ]
    },
    {
      "metadata" : {
        "trusted" : true,
        "input_collapsed" : false,
        "collapsed" : false,
        "id" : "86491F7684F04A0C872AB190E90AF6F2"
      },
      "cell_type" : "code",
      "source" : [
        "val categoricalFeatColNames = Seq(\"pclass\", \"title\", \"sex\")\n",
        "val stringIndexers = categoricalFeatColNames.map { colName =>\n",
        "  new StringIndexer()\n",
        "    .setInputCol(colName)\n",
        "    .setOutputCol(colName + \"Indexed\")\n",
        "    .fit(frame)\n",
        "}"
      ],
      "outputs" : [ ]
    },
    {
      "metadata" : {
        "trusted" : true,
        "input_collapsed" : false,
        "collapsed" : false,
        "id" : "199F2D412DA1409D84CA3A243B608EAF"
      },
      "cell_type" : "code",
      "source" : [
        "val labelIndexer = new StringIndexer()\n",
        ".setInputCol(\"survived\")\n",
        ".setOutputCol(\"survivedIndexed\")\n",
        ".fit(frame)\n"
      ],
      "outputs" : [ ]
    },
    {
      "metadata" : {
        "trusted" : true,
        "input_collapsed" : false,
        "collapsed" : false,
        "id" : "D0B228A8EB2E46D48F9154C1661132D7"
      },
      "cell_type" : "code",
      "source" : [
        "val numericFeatColNames = Seq(\"age\", \"sibsp\", \"parch\", \"fare\")\n",
        "val idxdCategoricalFeatColName = categoricalFeatColNames.map(_ + \"Indexed\")\n",
        "val allIdxdFeatColNames = numericFeatColNames ++ idxdCategoricalFeatColName\n",
        "val assembler = new VectorAssembler()\n",
        "  .setInputCols(Array(allIdxdFeatColNames: _*))\n",
        "  .setOutputCol(\"features\")"
      ],
      "outputs" : [ ]
    },
    {
      "metadata" : {
        "trusted" : true,
        "input_collapsed" : false,
        "collapsed" : false,
        "id" : "4D89EFAB793A415093091844F390F730"
      },
      "cell_type" : "code",
      "source" : [
        "\n",
        "import org.apache.spark.ml.classification.{LogisticRegression,LogisticRegressionModel}\n",
        "import org.apache.spark.ml.classification.BinaryLogisticRegressionSummary\n",
        "import org.apache.spark.ml.Pipeline"
      ],
      "outputs" : [ ]
    },
    {
      "metadata" : {
        "trusted" : true,
        "input_collapsed" : false,
        "collapsed" : false,
        "id" : "F4904AC990624B1398789B7D20429EB2"
      },
      "cell_type" : "code",
      "source" : [
        "val lr = new LogisticRegression()\n",
        "  .setMaxIter(10)\n",
        "  .setRegParam(0.0)\n",
        "  .setLabelCol(\"survivedIndexed\")\n",
        "  .setFeaturesCol(\"features\")"
      ],
      "outputs" : [ ]
    },
    {
      "metadata" : {
        "trusted" : true,
        "input_collapsed" : false,
        "collapsed" : false,
        "id" : "208FDFDEC7F74CA394685D26574D04DE"
      },
      "cell_type" : "code",
      "source" : [
        "val labelConverter = new IndexToString()\n",
        "  .setInputCol(\"prediction\")\n",
        "  .setOutputCol(\"predictedLabel\")\n",
        "  .setLabels(labelIndexer.labels)"
      ],
      "outputs" : [ ]
    },
    {
      "metadata" : {
        "trusted" : true,
        "input_collapsed" : false,
        "collapsed" : false,
        "id" : "CFFCF320727D4A6A85AC367B2958978A"
      },
      "cell_type" : "code",
      "source" : [
        ""
      ],
      "outputs" : [ ]
    },
    {
      "metadata" : {
        "trusted" : true,
        "input_collapsed" : false,
        "collapsed" : false,
        "id" : "DCE817EE3A9047878F6A7503E33FB401"
      },
      "cell_type" : "code",
      "source" : [
        "val Array(training, test) = frame.randomSplit(Array(8, 2))"
      ],
      "outputs" : [ ]
    },
    {
      "metadata" : {
        "trusted" : true,
        "input_collapsed" : false,
        "collapsed" : false,
        "id" : "C2436E53BED2448FB4C2E49730829085"
      },
      "cell_type" : "code",
      "source" : [
        "val featurizazer = (stringIndexers :+ labelIndexer :+ assembler).toArray\n"
      ],
      "outputs" : [ ]
    },
    {
      "metadata" : {
        "trusted" : true,
        "input_collapsed" : false,
        "collapsed" : false,
        "id" : "81543B6E929844638E0174E72E10F833"
      },
      "cell_type" : "code",
      "source" : [
        "def featurizaze(df: DataFrame, zazer: List[org.apache.spark.ml.Transformer]): DataFrame = zazer match {\n",
        "  case head :: tail => featurizaze(head.transform(df), tail)\n",
        "  case Nil => df\n",
        "}"
      ],
      "outputs" : [ ]
    },
    {
      "metadata" : {
        "trusted" : true,
        "input_collapsed" : false,
        "collapsed" : false,
        "presentation" : {
          "tabs_state" : "{\n  \"tab_id\": \"#tab1026850447-0\"\n}",
          "pivot_chart_state" : "{\n  \"hiddenAttributes\": [],\n  \"menuLimit\": 200,\n  \"cols\": [],\n  \"rows\": [],\n  \"vals\": [],\n  \"exclusions\": {},\n  \"inclusions\": {},\n  \"unusedAttrsVertical\": 85,\n  \"autoSortUnusedAttrs\": false,\n  \"inclusionsInfo\": {},\n  \"aggregatorName\": \"Count\",\n  \"rendererName\": \"Table\"\n}"
        },
        "id" : "ABC111E7AA0442CCAE1E3D66D3A42E49"
      },
      "cell_type" : "code",
      "source" : [
        "val trainingFeat = featurizaze(training, featurizazer.toList)\n",
        "val testFeat = featurizaze(test, featurizazer.toList)"
      ],
      "outputs" : [ ]
    },
    {
      "metadata" : {
        "trusted" : true,
        "input_collapsed" : false,
        "collapsed" : false,
        "id" : "7C61F017856943438BEE431576BAD069"
      },
      "cell_type" : "code",
      "source" : [
        "val model = lr.fit(trainingFeat)"
      ],
      "outputs" : [ ]
    },
    {
      "metadata" : {
        "trusted" : true,
        "input_collapsed" : false,
        "collapsed" : false,
        "id" : "C2CA502AAD4E4BC4B3EA96179727E1EA"
      },
      "cell_type" : "code",
      "source" : [
        "val modelEval = model.evaluate(testFeat)\n",
        "                     .asInstanceOf[BinaryLogisticRegressionSummary]"
      ],
      "outputs" : [ ]
    },
    {
      "metadata" : {
        "trusted" : true,
        "input_collapsed" : false,
        "collapsed" : false,
        "id" : "6F42D50AB31B4D398EAF5D14772CDAAF"
      },
      "cell_type" : "code",
      "source" : [
        "modelEval.areaUnderROC"
      ],
      "outputs" : [ ]
    },
    {
      "metadata" : {
        "trusted" : true,
        "input_collapsed" : false,
        "collapsed" : false,
        "presentation" : {
          "tabs_state" : "{\n  \"tab_id\": \"#tab224960099-1\"\n}",
          "pivot_chart_state" : "{\n  \"hiddenAttributes\": [],\n  \"menuLimit\": 200,\n  \"cols\": [],\n  \"rows\": [],\n  \"vals\": [],\n  \"exclusions\": {},\n  \"inclusions\": {},\n  \"unusedAttrsVertical\": 85,\n  \"autoSortUnusedAttrs\": false,\n  \"inclusionsInfo\": {},\n  \"aggregatorName\": \"Count\",\n  \"rendererName\": \"Table\"\n}"
        },
        "id" : "04E81015076144E3BDBA79CD1ECB2EF7"
      },
      "cell_type" : "code",
      "source" : [
        "modelEval.roc.collect"
      ],
      "outputs" : [ ]
    },
    {
      "metadata" : {
        "id" : "305425D2966F4519B0993332D004AAA0"
      },
      "cell_type" : "markdown",
      "source" : "### Using the Pipeline concept (parametrizable and tunable)\n\nA Pipeline is and oirdered sequence of transformers and evaluators"
    },
    {
      "metadata" : {
        "trusted" : true,
        "input_collapsed" : false,
        "collapsed" : false,
        "id" : "07BB6F8FCF7B4480AF3C0C07AAEB87C1"
      },
      "cell_type" : "code",
      "source" : [
        "val pipeline = new Pipeline().setStages(\n",
        "      (stringIndexers :+ labelIndexer :+ assembler :+ lr :+ labelConverter).toArray)"
      ],
      "outputs" : [ ]
    },
    {
      "metadata" : {
        "trusted" : true,
        "input_collapsed" : false,
        "collapsed" : false,
        "id" : "29C94B3AA97244489714B2B12011E319"
      },
      "cell_type" : "code",
      "source" : [
        "val model = pipeline.fit(training)"
      ],
      "outputs" : [ ]
    },
    {
      "metadata" : {
        "trusted" : true,
        "input_collapsed" : false,
        "collapsed" : false,
        "id" : "AB167F40D3C64B258D918FF1EF8DF066"
      },
      "cell_type" : "code",
      "source" : [
        "val predictions = model.transform(test)"
      ],
      "outputs" : [ ]
    },
    {
      "metadata" : {
        "trusted" : true,
        "input_collapsed" : false,
        "collapsed" : false,
        "presentation" : {
          "tabs_state" : "{\n  \"tab_id\": \"#tab854273221-0\"\n}",
          "pivot_chart_state" : "{\n  \"hiddenAttributes\": [],\n  \"menuLimit\": 200,\n  \"cols\": [\n    \"predictedLabel\"\n  ],\n  \"rows\": [\n    \"survived\"\n  ],\n  \"vals\": [],\n  \"exclusions\": {},\n  \"inclusions\": {},\n  \"unusedAttrsVertical\": 85,\n  \"autoSortUnusedAttrs\": false,\n  \"inclusionsInfo\": {},\n  \"aggregatorName\": \"Count\",\n  \"rendererName\": \"Table\"\n}"
        },
        "id" : "20E9DA0980A040B8813AC4661CCE0806"
      },
      "cell_type" : "code",
      "source" : [
        "predictions.select(\"survived\", \"predictedLabel\").collect"
      ],
      "outputs" : [ ]
    },
    {
      "metadata" : {
        "id" : "172250B04715482AB20F2DAF8E5345D3"
      },
      "cell_type" : "markdown",
      "source" : "## k-fold cross validation & grid search"
    },
    {
      "metadata" : {
        "trusted" : true,
        "input_collapsed" : false,
        "collapsed" : false,
        "id" : "12DE7BB58032405786F3BDEDDDC27BB3"
      },
      "cell_type" : "code",
      "source" : [
        "import org.apache.spark.ml.tuning.{ParamGridBuilder, CrossValidator}\n",
        "import org.apache.spark.ml.evaluation.BinaryClassificationEvaluator"
      ],
      "outputs" : [ ]
    },
    {
      "metadata" : {
        "trusted" : true,
        "input_collapsed" : false,
        "collapsed" : false,
        "id" : "A081E3C6506F49A38FC7BA728D41DA36"
      },
      "cell_type" : "code",
      "source" : [
        "val paramGrid = new ParamGridBuilder()\n",
        "  .addGrid(lr.regParam, Array(1, 0.1, 0.01))\n",
        "  .addGrid(lr.elasticNetParam, Array(0.0, 0.33, 0.66, 1.0))\n",
        "  .build()"
      ],
      "outputs" : [ ]
    },
    {
      "metadata" : {
        "trusted" : true,
        "input_collapsed" : false,
        "collapsed" : false,
        "id" : "D363FC68A36C48638A4377ED3EA127DB"
      },
      "cell_type" : "code",
      "source" : [
        "val evaluator = new BinaryClassificationEvaluator()\n",
        "  .setLabelCol(\"survivedIndexed\")"
      ],
      "outputs" : [ ]
    },
    {
      "metadata" : {
        "trusted" : true,
        "input_collapsed" : false,
        "collapsed" : false,
        "id" : "0E3FB78FDFF84F76BA21C1F3E7484113"
      },
      "cell_type" : "code",
      "source" : [
        "val cv = new CrossValidator()\n",
        "  .setEstimator(pipeline)\n",
        "  .setEvaluator(evaluator)\n",
        "  .setEstimatorParamMaps(paramGrid)\n",
        "  .setNumFolds(3)"
      ],
      "outputs" : [ ]
    },
    {
      "metadata" : {
        "trusted" : true,
        "input_collapsed" : false,
        "collapsed" : false,
        "id" : "733ED4AB518D4A978DE19D1B0DF4831E"
      },
      "cell_type" : "code",
      "source" : [
        "val crossValidatorModel = cv.fit(training)"
      ],
      "outputs" : [ ]
    },
    {
      "metadata" : {
        "trusted" : true,
        "input_collapsed" : false,
        "collapsed" : false,
        "id" : "444A40C8375F4FBA89AC0C68412F5602"
      },
      "cell_type" : "code",
      "source" : [
        "val predictions = crossValidatorModel.transform(test)"
      ],
      "outputs" : [ ]
    },
    {
      "metadata" : {
        "trusted" : true,
        "input_collapsed" : false,
        "collapsed" : false,
        "presentation" : {
          "tabs_state" : "{\n  \"tab_id\": \"#tab184392-1\"\n}",
          "pivot_chart_state" : "{\n  \"hiddenAttributes\": [],\n  \"menuLimit\": 200,\n  \"cols\": [\n    \"predictedLabel\"\n  ],\n  \"rows\": [\n    \"survived\"\n  ],\n  \"vals\": [],\n  \"exclusions\": {},\n  \"inclusions\": {},\n  \"unusedAttrsVertical\": 85,\n  \"autoSortUnusedAttrs\": false,\n  \"inclusionsInfo\": {},\n  \"aggregatorName\": \"Count\",\n  \"rendererName\": \"Table\"\n}"
        },
        "id" : "E59180E972A34D40890898572728B75D"
      },
      "cell_type" : "code",
      "source" : [
        "predictions.select(\"survived\", \"predictedLabel\").collect"
      ],
      "outputs" : [ ]
    },
    {
      "metadata" : {
        "trusted" : true,
        "input_collapsed" : false,
        "collapsed" : false,
        "id" : "52CB3E639831429B8338938F4933BC3C"
      },
      "cell_type" : "code",
      "source" : [
        "evaluator.evaluate(predictions)"
      ],
      "outputs" : [ ]
    },
    {
      "metadata" : {
        "trusted" : true,
        "input_collapsed" : false,
        "collapsed" : false,
        "id" : "83EC6D1411C04D808F513AEEAD1B93C6"
      },
      "cell_type" : "code",
      "source" : [
        ""
      ],
      "outputs" : [ ]
    },
    {
      "metadata" : {
        "trusted" : true,
        "input_collapsed" : false,
        "collapsed" : true,
        "id" : "EEE5C9D96E0C44B38224C2B5D8C3A948"
      },
      "cell_type" : "code",
      "source" : [
        ""
      ],
      "outputs" : [ ]
    }
  ],
  "nbformat" : 4
}