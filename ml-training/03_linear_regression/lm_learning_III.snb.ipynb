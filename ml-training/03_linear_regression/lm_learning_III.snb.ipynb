{
  "metadata" : {
    "id" : "6ac3f3c2-e2e1-4b25-afe1-b212ccbac70f",
    "name" : "lm_learning_III.snb.ipynb",
    "user_save_timestamp" : "2018-03-12T09:05:05.367Z",
    "auto_save_timestamp" : "1970-01-01T00:00:00.000Z",
    "language_info" : {
      "name" : "scala",
      "file_extension" : "scala",
      "codemirror_mode" : "text/x-scala"
    },
    "trusted" : true,
    "sparkNotebook" : null,
    "customLocalRepo" : null,
    "customRepos" : null,
    "customDeps" : null,
    "customImports" : null,
    "customArgs" : null,
    "customSparkConf" : {
      "spark.sql.shuffle.partitions" : 4
    },
    "customVars" : null
  },
  "cells" : [
    {
      "metadata" : {
        "trusted" : true,
        "input_collapsed" : false,
        "collapsed" : false,
        "id" : "E056E220096548318A961B87BEC9DCA5"
      },
      "cell_type" : "code",
      "source" : [
        "val dataDir = sys.props(\"java.io.tmpdir\") + \"/data/linear_regression\""
      ],
      "outputs" : [ ]
    },
    {
      "metadata" : {
        "trusted" : true,
        "input_collapsed" : false,
        "collapsed" : false,
        "id" : "1A01D16AF8284F8783C4DF26C66A4582"
      },
      "cell_type" : "code",
      "source" : [
        "val data = sparkSession.read.parquet(s\"${dataDir}/djia.parquet\")"
      ],
      "outputs" : [ ]
    },
    {
      "metadata" : {
        "trusted" : true,
        "input_collapsed" : false,
        "collapsed" : false,
        "id" : "6FF0588ED88D40C5854895FF6A661CCA"
      },
      "cell_type" : "code",
      "source" : [
        "import org.apache.spark.ml.regression.LinearRegression"
      ],
      "outputs" : [ ]
    },
    {
      "metadata" : {
        "trusted" : true,
        "input_collapsed" : false,
        "collapsed" : false,
        "id" : "FDC1FE135D484D5A85F7BC9DB336377C"
      },
      "cell_type" : "code",
      "source" : [
        "import org.apache.spark.ml.feature.VectorAssembler\n",
        "import org.apache.spark.ml.linalg.Vectors"
      ],
      "outputs" : [ ]
    },
    {
      "metadata" : {
        "trusted" : true,
        "input_collapsed" : false,
        "collapsed" : false,
        "id" : "0BF11E481FBC42A38CA7CB675E2BC05E"
      },
      "cell_type" : "code",
      "source" : [
        "val frame = data.drop(\"DWDP\").drop(\"MMM\")\n",
        "val features = frame.columns.filter(_ != \"JPM\").filter(_ != \"date\")"
      ],
      "outputs" : [ ]
    },
    {
      "metadata" : {
        "trusted" : true,
        "input_collapsed" : false,
        "collapsed" : false,
        "id" : "75BD7A17B07742EEB1C7D4DA8CA05F75"
      },
      "cell_type" : "code",
      "source" : [
        "val assembler = new VectorAssembler()\n",
        "                    .setInputCols(features)\n",
        "                    .setOutputCol(\"features\")"
      ],
      "outputs" : [ ]
    },
    {
      "metadata" : {
        "trusted" : true,
        "input_collapsed" : false,
        "collapsed" : false,
        "id" : "1115610A34F54A698E0EF620AE4447EA"
      },
      "cell_type" : "code",
      "source" : [
        "val lr = new LinearRegression()\n",
        "  .setMaxIter(10)"
      ],
      "outputs" : [ ]
    },
    {
      "metadata" : {
        "trusted" : true,
        "input_collapsed" : false,
        "collapsed" : false,
        "id" : "36AE9201887F4DBEB1A88FA813A61FF6"
      },
      "cell_type" : "code",
      "source" : [
        "val training = frame.filter($\"date\" < \"2018-01-01\")\n",
        "val test     = frame.filter($\"date\" >= \"2018-01-01\")"
      ],
      "outputs" : [ ]
    },
    {
      "metadata" : {
        "trusted" : true,
        "input_collapsed" : false,
        "collapsed" : false,
        "id" : "82DFAE3494194ABE88546B19EA2ED406"
      },
      "cell_type" : "code",
      "source" : [
        "val Array(training, test) = frame.randomSplit(Array(4, 1))"
      ],
      "outputs" : [ ]
    },
    {
      "metadata" : {
        "trusted" : true,
        "input_collapsed" : false,
        "collapsed" : false,
        "id" : "8C6F85823DF043388E7A260DB1F748A0"
      },
      "cell_type" : "code",
      "source" : [
        "(training.count, test.count)"
      ],
      "outputs" : [ ]
    },
    {
      "metadata" : {
        "trusted" : true,
        "input_collapsed" : false,
        "collapsed" : false,
        "id" : "6E28ECCC72F843738818EAC39DEF82AB"
      },
      "cell_type" : "code",
      "source" : [
        "val mlTrain = assembler.transform(training).select(\"date\",\"JPM\", \"features\")\n",
        "                                           .withColumnRenamed(\"JPM\", \"label\")\n",
        "val mlTest = assembler.transform(test).select(\"date\", \"JPM\", \"features\")\n",
        "                                      .withColumnRenamed(\"JPM\", \"label\")"
      ],
      "outputs" : [ ]
    },
    {
      "metadata" : {
        "trusted" : true,
        "input_collapsed" : false,
        "collapsed" : false,
        "id" : "A5A534CA051746F3985A7BB6DD0C42A3"
      },
      "cell_type" : "code",
      "source" : [
        "import org.apache.spark.ml.evaluation.RegressionEvaluator\n",
        "import org.apache.spark.ml.regression.{LinearRegression, LinearRegressionModel}\n",
        "import org.apache.spark.ml.tuning.{ParamGridBuilder, TrainValidationSplit}"
      ],
      "outputs" : [ ]
    },
    {
      "metadata" : {
        "trusted" : true,
        "input_collapsed" : false,
        "collapsed" : false,
        "id" : "705D48FDCFC74BD3B1E83E476FAEA95F"
      },
      "cell_type" : "code",
      "source" : [
        "val paramGrid = new ParamGridBuilder()\n",
        "  .addGrid(lr.regParam, Array(10.0, 1.0, 0.1, 0.01, 0.001))\n",
        "  .addGrid(lr.elasticNetParam, Array(0.0, 0.33, 0.66, 1.0))\n",
        "  .build()\n"
      ],
      "outputs" : [ ]
    },
    {
      "metadata" : {
        "trusted" : true,
        "input_collapsed" : false,
        "collapsed" : false,
        "id" : "8B7BB1AA16234373802F1AFFC9836D30"
      },
      "cell_type" : "code",
      "source" : [
        "val trainValidationSplit = new TrainValidationSplit()\n",
        "  .setEstimator(lr)\n",
        "  .setEvaluator(new RegressionEvaluator)\n",
        "  .setEstimatorParamMaps(paramGrid)\n",
        "  // 80% of the data will be used for training and the remaining 20% for validation.\n",
        "  .setTrainRatio(0.75)"
      ],
      "outputs" : [ ]
    },
    {
      "metadata" : {
        "trusted" : true,
        "input_collapsed" : false,
        "collapsed" : false,
        "id" : "73E3BB490FCC4123842406D759DF0467"
      },
      "cell_type" : "code",
      "source" : [
        "val model = trainValidationSplit.fit(mlTrain)"
      ],
      "outputs" : [ ]
    },
    {
      "metadata" : {
        "trusted" : true,
        "input_collapsed" : false,
        "collapsed" : false,
        "presentation" : {
          "tabs_state" : "{\n  \"tab_id\": \"#tab13461837-3\"\n}",
          "pivot_chart_state" : "{\n  \"hiddenAttributes\": [],\n  \"menuLimit\": 200,\n  \"cols\": [],\n  \"rows\": [],\n  \"vals\": [],\n  \"exclusions\": {},\n  \"inclusions\": {},\n  \"unusedAttrsVertical\": 85,\n  \"autoSortUnusedAttrs\": false,\n  \"inclusionsInfo\": {},\n  \"aggregatorName\": \"Count\",\n  \"rendererName\": \"Table\"\n}"
        },
        "id" : "4164FBA8BCD6473F96D5700005FF98E8"
      },
      "cell_type" : "code",
      "source" : [
        "model.validationMetrics"
      ],
      "outputs" : [ ]
    },
    {
      "metadata" : {
        "trusted" : true,
        "input_collapsed" : false,
        "collapsed" : false,
        "presentation" : {
          "tabs_state" : "{\n  \"tab_id\": \"#tab107053976-0\"\n}"
        },
        "id" : "D310E0F5F8B242C795954218C0DEEA6C"
      },
      "cell_type" : "code",
      "source" : [
        "model.bestModel.asInstanceOf[LinearRegressionModel].extractParamMap()"
      ],
      "outputs" : [ ]
    },
    {
      "metadata" : {
        "trusted" : true,
        "input_collapsed" : false,
        "collapsed" : true,
        "id" : "264EB93BD117448C8647AFBA7B65977E"
      },
      "cell_type" : "code",
      "source" : [
        ""
      ],
      "outputs" : [ ]
    },
    {
      "metadata" : {
        "trusted" : true,
        "input_collapsed" : false,
        "collapsed" : false,
        "id" : "C31CA1AAE25643A8BF4F47AEFBF376FC"
      },
      "cell_type" : "code",
      "source" : [
        "val evalModel = model.bestModel.asInstanceOf[LinearRegressionModel]\n",
        "                               .evaluate(mlTest)"
      ],
      "outputs" : [ ]
    },
    {
      "metadata" : {
        "trusted" : true,
        "input_collapsed" : false,
        "collapsed" : false,
        "id" : "AC6417DF1D4A458A977F094663D1EF9C"
      },
      "cell_type" : "code",
      "source" : [
        "evalModel.rootMeanSquaredError"
      ],
      "outputs" : [ ]
    },
    {
      "metadata" : {
        "trusted" : true,
        "input_collapsed" : false,
        "collapsed" : false,
        "id" : "5A3EC169703A42A18BFF38798F948EEB"
      },
      "cell_type" : "code",
      "source" : [
        "evalModel.select(\"features\", \"label\", \"prediction\")\n",
        "  .show()"
      ],
      "outputs" : [ ]
    },
    {
      "metadata" : {
        "trusted" : true,
        "input_collapsed" : false,
        "collapsed" : false,
        "presentation" : {
          "tabs_state" : "{\n  \"tab_id\": \"#tab481901233-1\"\n}",
          "pivot_chart_state" : "{\n  \"hiddenAttributes\": [],\n  \"menuLimit\": 200,\n  \"cols\": [],\n  \"rows\": [],\n  \"vals\": [],\n  \"exclusions\": {},\n  \"inclusions\": {},\n  \"unusedAttrsVertical\": 85,\n  \"autoSortUnusedAttrs\": false,\n  \"inclusionsInfo\": {},\n  \"aggregatorName\": \"Count\",\n  \"rendererName\": \"Table\"\n}"
        },
        "id" : "377300EAA2D84076991AE90A8A3AEA89"
      },
      "cell_type" : "code",
      "source" : [
        "evalModel.predictions.select(\"label\",\"prediction\").collect"
      ],
      "outputs" : [ ]
    },
    {
      "metadata" : {
        "trusted" : true,
        "input_collapsed" : false,
        "collapsed" : false,
        "presentation" : {
          "tabs_state" : "{\n  \"tab_id\": \"#tab1291001323-1\"\n}",
          "pivot_chart_state" : "{\n  \"hiddenAttributes\": [],\n  \"menuLimit\": 200,\n  \"cols\": [],\n  \"rows\": [],\n  \"vals\": [],\n  \"exclusions\": {},\n  \"inclusions\": {},\n  \"unusedAttrsVertical\": 85,\n  \"autoSortUnusedAttrs\": false,\n  \"inclusionsInfo\": {},\n  \"aggregatorName\": \"Count\",\n  \"rendererName\": \"Table\"\n}"
        },
        "id" : "9B4C3BCF2BB2401989AA61D45EDC3EFA"
      },
      "cell_type" : "code",
      "source" : [
        "evalModel.residuals.collect"
      ],
      "outputs" : [ ]
    },
    {
      "metadata" : {
        "id" : "0CBEAEFB9E7F45CD800C4791DB5AF5CF"
      },
      "cell_type" : "markdown",
      "source" : "* Training & validation (random)\n* Training & validation (2017/2018)\n* Binning volume\n* use binned volume as categories\n* New model with volume as feature"
    },
    {
      "metadata" : {
        "trusted" : true,
        "input_collapsed" : false,
        "collapsed" : true,
        "id" : "FDEC573EFB1045B9B95C44BDC98D0C9E"
      },
      "cell_type" : "code",
      "source" : [
        ""
      ],
      "outputs" : [ ]
    }
  ],
  "nbformat" : 4
}