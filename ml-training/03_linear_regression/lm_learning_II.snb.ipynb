{
  "metadata" : {
    "id" : "d84605b6-7719-453a-97f5-8920179faafe",
    "name" : "lm_learning_II",
    "user_save_timestamp" : "2018-03-12T07:51:00.049Z",
    "auto_save_timestamp" : "1970-01-01T00:00:00.000Z",
    "language_info" : {
      "name" : "scala",
      "file_extension" : "scala",
      "codemirror_mode" : "text/x-scala"
    },
    "trusted" : true,
    "sparkNotebook" : null,
    "customLocalRepo" : null,
    "customRepos" : null,
    "customDeps" : null,
    "customImports" : null,
    "customArgs" : null,
    "customSparkConf" : {
      "spark.sql.shuffle.partitions" : 4
    },
    "customVars" : null
  },
  "cells" : [ {
    "metadata" : {
      "trusted" : true,
      "input_collapsed" : false,
      "collapsed" : true,
      "id" : "E056E220096548318A961B87BEC9DCA5"
    },
    "cell_type" : "code",
    "source" : [ "val dataDir = sys.props(\"java.io.tmpdir\") + \"/data/linear_regression\"" ],
    "outputs" : [ ]
  }, {
    "metadata" : {
      "trusted" : true,
      "input_collapsed" : false,
      "collapsed" : true,
      "id" : "1A01D16AF8284F8783C4DF26C66A4582"
    },
    "cell_type" : "code",
    "source" : [ "val data = sparkSession.read.parquet(s\"${dataDir}/djia.parquet\")" ],
    "outputs" : [ ]
  }, {
    "metadata" : {
      "trusted" : true,
      "input_collapsed" : false,
      "collapsed" : true,
      "id" : "6FF0588ED88D40C5854895FF6A661CCA"
    },
    "cell_type" : "code",
    "source" : [ "import org.apache.spark.ml.regression.LinearRegression" ],
    "outputs" : [ ]
  }, {
    "metadata" : {
      "trusted" : true,
      "input_collapsed" : false,
      "collapsed" : true,
      "id" : "FDC1FE135D484D5A85F7BC9DB336377C"
    },
    "cell_type" : "code",
    "source" : [ "import org.apache.spark.ml.feature.VectorAssembler\n", "import org.apache.spark.ml.linalg.Vectors" ],
    "outputs" : [ ]
  }, {
    "metadata" : {
      "trusted" : true,
      "input_collapsed" : false,
      "collapsed" : true,
      "id" : "0BF11E481FBC42A38CA7CB675E2BC05E"
    },
    "cell_type" : "code",
    "source" : [ "val frame = data.drop(\"DWDP\").drop(\"MMM\")\n", "val features = frame.columns.filter(_ != \"JPM\").filter(_ != \"date\")" ],
    "outputs" : [ ]
  }, {
    "metadata" : {
      "trusted" : true,
      "input_collapsed" : false,
      "collapsed" : true,
      "id" : "75BD7A17B07742EEB1C7D4DA8CA05F75"
    },
    "cell_type" : "code",
    "source" : [ "val assembler = new VectorAssembler()\n", "                    .setInputCols(features)\n", "                    .setOutputCol(\"features\")" ],
    "outputs" : [ ]
  }, {
    "metadata" : {
      "trusted" : true,
      "input_collapsed" : false,
      "collapsed" : true,
      "id" : "1115610A34F54A698E0EF620AE4447EA"
    },
    "cell_type" : "code",
    "source" : [ "val lr = new LinearRegression()\n", "  .setMaxIter(10)\n", "  .setSolver(\"l-bfgs\")\n", "  .setRegParam(0.0)\n", "  .setLabelCol(\"JPM\")" ],
    "outputs" : [ ]
  }, {
    "metadata" : {
      "trusted" : true,
      "input_collapsed" : false,
      "collapsed" : true,
      "id" : "36AE9201887F4DBEB1A88FA813A61FF6"
    },
    "cell_type" : "code",
    "source" : [ "val training = frame.filter($\"date\" < \"2018-01-01\")\n", "val test     = frame.filter($\"date\" >= \"2018-01-01\")" ],
    "outputs" : [ ]
  }, {
    "metadata" : {
      "trusted" : true,
      "input_collapsed" : false,
      "collapsed" : true,
      "id" : "8C6F85823DF043388E7A260DB1F748A0"
    },
    "cell_type" : "code",
    "source" : [ "(training.count, test.count)" ],
    "outputs" : [ ]
  }, {
    "metadata" : {
      "trusted" : true,
      "input_collapsed" : false,
      "collapsed" : true,
      "id" : "6E28ECCC72F843738818EAC39DEF82AB"
    },
    "cell_type" : "code",
    "source" : [ "val mlTrain = assembler.transform(training).select(\"date\",\"JPM\", \"features\")\n", "val mlTest = assembler.transform(test).select(\"date\", \"JPM\", \"features\")" ],
    "outputs" : [ ]
  }, {
    "metadata" : {
      "trusted" : true,
      "input_collapsed" : false,
      "collapsed" : true,
      "id" : "A5A534CA051746F3985A7BB6DD0C42A3"
    },
    "cell_type" : "code",
    "source" : [ "val model = lr.fit(mlTrain)" ],
    "outputs" : [ ]
  }, {
    "metadata" : {
      "trusted" : true,
      "input_collapsed" : false,
      "collapsed" : true,
      "id" : "B8A1A32E776149C7A46171BF55B749B0"
    },
    "cell_type" : "code",
    "source" : [ "model.summary.rootMeanSquaredError" ],
    "outputs" : [ ]
  }, {
    "metadata" : {
      "trusted" : true,
      "input_collapsed" : false,
      "collapsed" : true,
      "id" : "C31CA1AAE25643A8BF4F47AEFBF376FC"
    },
    "cell_type" : "code",
    "source" : [ "val evalModel = model.evaluate(mlTest)" ],
    "outputs" : [ ]
  }, {
    "metadata" : {
      "trusted" : true,
      "input_collapsed" : false,
      "collapsed" : true,
      "id" : "5A3EC169703A42A18BFF38798F948EEB"
    },
    "cell_type" : "code",
    "source" : [ "evalModel.rootMeanSquaredError" ],
    "outputs" : [ ]
  }, {
    "metadata" : {
      "trusted" : true,
      "input_collapsed" : false,
      "collapsed" : true,
      "presentation" : {
        "tabs_state" : "{\n  \"tab_id\": \"#tab1752722144-1\"\n}",
        "pivot_chart_state" : "{\n  \"hiddenAttributes\": [],\n  \"menuLimit\": 200,\n  \"cols\": [],\n  \"rows\": [],\n  \"vals\": [],\n  \"exclusions\": {},\n  \"inclusions\": {},\n  \"unusedAttrsVertical\": 85,\n  \"autoSortUnusedAttrs\": false,\n  \"inclusionsInfo\": {},\n  \"aggregatorName\": \"Count\",\n  \"rendererName\": \"Table\"\n}"
      },
      "id" : "377300EAA2D84076991AE90A8A3AEA89"
    },
    "cell_type" : "code",
    "source" : [ "evalModel.predictions.select(\"JPM\",\"prediction\").collect" ],
    "outputs" : [ ]
  }, {
    "metadata" : {
      "trusted" : true,
      "input_collapsed" : false,
      "collapsed" : true,
      "presentation" : {
        "tabs_state" : "{\n  \"tab_id\": \"#tab904895366-3\"\n}",
        "pivot_chart_state" : "{\n  \"hiddenAttributes\": [],\n  \"menuLimit\": 200,\n  \"cols\": [],\n  \"rows\": [],\n  \"vals\": [],\n  \"exclusions\": {},\n  \"inclusions\": {},\n  \"unusedAttrsVertical\": 85,\n  \"autoSortUnusedAttrs\": false,\n  \"inclusionsInfo\": {},\n  \"aggregatorName\": \"Count\",\n  \"rendererName\": \"Table\"\n}"
      },
      "id" : "9B4C3BCF2BB2401989AA61D45EDC3EFA"
    },
    "cell_type" : "code",
    "source" : [ "evalModel.residuals.collect" ],
    "outputs" : [ ]
  }, {
    "metadata" : {
      "id" : "0CBEAEFB9E7F45CD800C4791DB5AF5CF"
    },
    "cell_type" : "markdown",
    "source" : "* Training & validation (random)\n* Training & validation (2017/2018)\n* Binning volume\n* use binned volume as categories\n* New model with volume as feature"
  }, {
    "metadata" : {
      "trusted" : true,
      "input_collapsed" : false,
      "collapsed" : true,
      "id" : "FDEC573EFB1045B9B95C44BDC98D0C9E"
    },
    "cell_type" : "code",
    "source" : [ "val lr = new LinearRegression()\n", "  .setMaxIter(10)\n", "  .setSolver(\"l-bfgs\")\n", "  .setRegParam(.1)\n", "  .setLabelCol(\"JPM\")" ],
    "outputs" : [ ]
  }, {
    "metadata" : {
      "trusted" : true,
      "input_collapsed" : false,
      "collapsed" : true,
      "id" : "3606932937A94CE1827E96AB580AE94F"
    },
    "cell_type" : "code",
    "source" : [ "val model = lr.fit(mlTrain)" ],
    "outputs" : [ ]
  }, {
    "metadata" : {
      "trusted" : true,
      "input_collapsed" : false,
      "collapsed" : true,
      "id" : "9D75890B5D3E429CB295F26AEA57FB8A"
    },
    "cell_type" : "code",
    "source" : [ "model.summary.rootMeanSquaredError" ],
    "outputs" : [ ]
  }, {
    "metadata" : {
      "trusted" : true,
      "input_collapsed" : false,
      "collapsed" : true,
      "id" : "7F16552863DD45CFA49006A41C76D6FC"
    },
    "cell_type" : "code",
    "source" : [ "val evalModel = model.evaluate(mlTest)\n", "evalModel.rootMeanSquaredError" ],
    "outputs" : [ ]
  }, {
    "metadata" : {
      "trusted" : true,
      "input_collapsed" : false,
      "collapsed" : true,
      "id" : "43D61E0D2E7B44AEAC0103B33DAD4637"
    },
    "cell_type" : "code",
    "source" : [ "" ],
    "outputs" : [ ]
  } ],
  "nbformat" : 4
}