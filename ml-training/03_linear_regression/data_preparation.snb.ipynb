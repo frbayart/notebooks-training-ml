{
  "metadata" : {
    "id" : "8c660131-28c8-40f4-8da8-0afff359e972",
    "name" : "data_preparation",
    "user_save_timestamp" : "1970-01-01T00:00:00.000Z",
    "auto_save_timestamp" : "1970-01-01T00:00:00.000Z",
    "language_info" : {
      "name" : "scala",
      "file_extension" : "scala",
      "codemirror_mode" : "text/x-scala"
    },
    "trusted" : true,
    "sparkNotebook" : null,
    "customLocalRepo" : null,
    "customRepos" : null,
    "customDeps" : null,
    "customImports" : null,
    "customArgs" : null,
    "customSparkConf" : {
      "spark.sql.shuffle.partitions" : 4
    },
    "customVars" : null
  },
  "cells" : [
    {
      "metadata" : {
        "trusted" : true,
        "input_collapsed" : false,
        "collapsed" : false,
        "id" : "BADD3F81A024456297EBAB9589EB2651"
      },
      "cell_type" : "code",
      "source" : [
        "import org.apache.spark.sql.SparkSession"
      ],
      "outputs" : [ ]
    },
    {
      "metadata" : {
        "id" : "10D7F990AF1E43D08794E7235C287C78"
      },
      "cell_type" : "markdown",
      "source" : "## Download csv data for Dow Jones\n\nWe download a file containing end-of-day data for stock prices, 2017 and 2018.\nTaken as a sample from Quandl WIKIPRICES"
    },
    {
      "metadata" : {
        "trusted" : true,
        "input_collapsed" : false,
        "collapsed" : false,
        "id" : "9D1181A5144443EA816C86DE3E03507F"
      },
      "cell_type" : "code",
      "source" : [
        "val remote = \"https://s3-eu-west-1.amazonaws.com/kensuio-training/data/djia-2017-2018.csv\"\n",
        "val local = \"djia-2017-2018.csv\""
      ],
      "outputs" : [ ]
    },
    {
      "metadata" : {
        "id" : "3CA160A0C3AC4ED1847FA26C1919107A"
      },
      "cell_type" : "markdown",
      "source" : "We set the target local directory and create it."
    },
    {
      "metadata" : {
        "trusted" : true,
        "input_collapsed" : false,
        "collapsed" : false,
        "id" : "EDC09E29C31547068344479EF48F8A49"
      },
      "cell_type" : "code",
      "source" : [
        "val dataDir = sys.props(\"java.io.tmpdir\") + \"/data/linear_regression\"\n",
        "new java.io.File(dataDir).mkdirs()"
      ],
      "outputs" : [ ]
    },
    {
      "metadata" : {
        "id" : "A1C6226A6C834A188708F82A013CB4EC"
      },
      "cell_type" : "markdown",
      "source" : "Now we download the file and save the content"
    },
    {
      "metadata" : {
        "trusted" : true,
        "input_collapsed" : false,
        "collapsed" : false,
        "id" : "F2D8DC8A9A5D47E68FCCF57721E44987"
      },
      "cell_type" : "code",
      "source" : [
        "val source = scala.io.Source.fromURL(remote)\n",
        "val f = new java.io.FileWriter(new java.io.File(s\"${dataDir}/$local\"), false)\n",
        "source.foreach(f.append(_))\n",
        "f.close"
      ],
      "outputs" : [ ]
    },
    {
      "metadata" : {
        "trusted" : true,
        "input_collapsed" : false,
        "collapsed" : false,
        "id" : "D183F2799D7241CEA4D6E3351316CB69"
      },
      "cell_type" : "code",
      "source" : [
        ":sh ls -lh ${dataDir}/$local"
      ],
      "outputs" : [ ]
    },
    {
      "metadata" : {
        "id" : "87544290C1274E048B8A1774E80C5218"
      },
      "cell_type" : "markdown",
      "source" : "## Read the csv file as a Dataframe\n\nWe are using the SparkSession object to read a csv file.\n\nsee https://people.apache.org/~pwendell/spark-releases/spark-2.2.0-rc1-docs/api/scala/index.html#org.apache.spark.sql.DataFrameReader\n\nand\n\nhttps://people.apache.org/~pwendell/spark-releases/spark-2.2.0-rc1-docs/sql-programming-guide.html"
    },
    {
      "metadata" : {
        "trusted" : true,
        "input_collapsed" : false,
        "collapsed" : false,
        "id" : "B29E741ACD3041B3A6E62279CBA1B47F"
      },
      "cell_type" : "code",
      "source" : [
        "val csvDF = sparkSession.read.option(\"inferSchema\", true)\n",
        "                             .option(\"header\", true)\n",
        "                             .csv(s\"${dataDir}/$local\")\n",
        "                                           "
      ],
      "outputs" : [ ]
    },
    {
      "metadata" : {
        "id" : "EFD2E3FCD25B49E390CBAC8BFA3389C0"
      },
      "cell_type" : "markdown",
      "source" : "The columns of interest are \"ticker\", \"date\", \"adj_close\" and \"adj_volume\""
    },
    {
      "metadata" : {
        "trusted" : true,
        "input_collapsed" : false,
        "collapsed" : false,
        "presentation" : {
          "tabs_state" : "{\n  \"tab_id\": \"#tab1745663316-0\"\n}",
          "pivot_chart_state" : "{\n  \"hiddenAttributes\": [],\n  \"menuLimit\": 200,\n  \"cols\": [],\n  \"rows\": [],\n  \"vals\": [],\n  \"exclusions\": {},\n  \"inclusions\": {},\n  \"unusedAttrsVertical\": 85,\n  \"autoSortUnusedAttrs\": false,\n  \"inclusionsInfo\": {},\n  \"aggregatorName\": \"Count\",\n  \"rendererName\": \"Table\"\n}"
        },
        "id" : "3DD9E56E9A364DAF8D81147346F07AB3"
      },
      "cell_type" : "code",
      "source" : [
        "val flatDF = csvDF.select(\"ticker\", \"date\", \"adj_close\", \"adj_volume\")"
      ],
      "outputs" : [ ]
    },
    {
      "metadata" : {
        "trusted" : true,
        "input_collapsed" : false,
        "collapsed" : false,
        "id" : "CD6D9B29D6434D8D8D7A9276F49E9237"
      },
      "cell_type" : "code",
      "source" : [
        "flatDF.groupBy(\"date\").count.groupBy(\"count\").agg(count(\"count\"))"
      ],
      "outputs" : [ ]
    },
    {
      "metadata" : {
        "trusted" : true,
        "input_collapsed" : false,
        "collapsed" : false,
        "id" : "8D3088C9CE37424E88268DC2FE94E0D6"
      },
      "cell_type" : "code",
      "source" : [
        "val ts = flatDF.groupBy(\"date\").count.where($\"count\" === 32).select(\"date\")"
      ],
      "outputs" : [ ]
    },
    {
      "metadata" : {
        "trusted" : true,
        "input_collapsed" : false,
        "collapsed" : false,
        "id" : "FB1120E3CA714046A53490E38B61E2B7"
      },
      "cell_type" : "code",
      "source" : [
        "val cleanDF = flatDF.join(ts, ts(\"date\") === flatDF(\"date\")).select($\"ticker\", flatDF(\"date\"), $\"adj_close\")"
      ],
      "outputs" : [ ]
    },
    {
      "metadata" : {
        "id" : "F471808DFA3943408FAABC0FFF793F90"
      },
      "cell_type" : "markdown",
      "source" : "We \"pivot\" the table, grouping by date, and pivoting on ticker, so we end up with 1 row per date, and one column per ticker, and we rertain the price"
    },
    {
      "metadata" : {
        "trusted" : true,
        "input_collapsed" : false,
        "collapsed" : false,
        "id" : "B1E050AA61AA494E8732369A54067547"
      },
      "cell_type" : "code",
      "source" : [
        "val data = cleanDF.groupBy(\"date\").pivot(\"ticker\").agg(max(\"adj_close\"))"
      ],
      "outputs" : [ ]
    },
    {
      "metadata" : {
        "id" : "2B3B6CC096C84013BA427FE722B08BBE"
      },
      "cell_type" : "markdown",
      "source" : "We save the data as a parquet file (compact data with schema included)"
    },
    {
      "metadata" : {
        "trusted" : true,
        "input_collapsed" : false,
        "collapsed" : false,
        "id" : "B13F1529F65A460A9BA000103E9C23CD"
      },
      "cell_type" : "code",
      "source" : [
        ":sh rm -rf /tmp/data/linear_regression/djia.parquet"
      ],
      "outputs" : [ ]
    },
    {
      "metadata" : {
        "trusted" : true,
        "input_collapsed" : false,
        "collapsed" : false,
        "id" : "C4BEB580CFBB462490D453FE255109FF"
      },
      "cell_type" : "code",
      "source" : [
        "data.write.format(\"parquet\").save(s\"${dataDir}/djia.parquet\")"
      ],
      "outputs" : [ ]
    },
    {
      "metadata" : {
        "trusted" : true,
        "input_collapsed" : false,
        "collapsed" : false,
        "id" : "11B5E705086D4E728CFB5660AC14E94B"
      },
      "cell_type" : "code",
      "source" : [
        ":sh ls -l ${dataDir}/djia.parquet"
      ],
      "outputs" : [ ]
    },
    {
      "metadata" : {
        "trusted" : true,
        "input_collapsed" : false,
        "collapsed" : true,
        "id" : "617DBB8C993A411F8E1D8621E7CDA09F"
      },
      "cell_type" : "code",
      "source" : [
        ""
      ],
      "outputs" : [ ]
    }
  ],
  "nbformat" : 4
}