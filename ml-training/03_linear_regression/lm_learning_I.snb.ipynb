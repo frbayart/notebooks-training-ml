{
  "metadata" : {
    "id" : "f589cad8-9b40-4e5e-931b-a92e4eef0135",
    "name" : "lm_learning_I.snb.ipynb",
    "user_save_timestamp" : "2018-03-12T07:51:00.049Z",
    "auto_save_timestamp" : "1970-01-01T00:00:00.000Z",
    "language_info" : {
      "name" : "scala",
      "file_extension" : "scala",
      "codemirror_mode" : "text/x-scala"
    },
    "trusted" : true,
    "sparkNotebook" : null,
    "customLocalRepo" : null,
    "customRepos" : null,
    "customDeps" : null,
    "customImports" : null,
    "customArgs" : null,
    "customSparkConf" : {
      "spark.sql.shuffle.partitions" : 4
    },
    "customVars" : null
  },
  "cells" : [ {
    "metadata" : {
      "trusted" : true,
      "input_collapsed" : false,
      "collapsed" : true,
      "id" : "596432F5430C48018D5144B461123A68"
    },
    "cell_type" : "code",
    "source" : [ "" ],
    "outputs" : [ ]
  }, {
    "metadata" : {
      "trusted" : true,
      "input_collapsed" : false,
      "collapsed" : false,
      "id" : "E056E220096548318A961B87BEC9DCA5"
    },
    "cell_type" : "code",
    "source" : [ "val dataDir = sys.props(\"java.io.tmpdir\") + \"/data/linear_regression\"" ],
    "outputs" : [ ]
  }, {
    "metadata" : {
      "trusted" : true,
      "input_collapsed" : false,
      "collapsed" : false,
      "id" : "1A01D16AF8284F8783C4DF26C66A4582"
    },
    "cell_type" : "code",
    "source" : [ "val data = sparkSession.read.parquet(s\"${dataDir}/djia.parquet\")" ],
    "outputs" : [ ]
  }, {
    "metadata" : {
      "trusted" : true,
      "input_collapsed" : false,
      "collapsed" : false,
      "id" : "E501649603274CD68B064A7D7A1DDFB0"
    },
    "cell_type" : "code",
    "source" : [ "data.select(\"AAPL\").agg(mean(\"AAPL\"), variance(\"AAPL\"))\n" ],
    "outputs" : [ ]
  }, {
    "metadata" : {
      "trusted" : true,
      "input_collapsed" : false,
      "collapsed" : false,
      "id" : "6FF0588ED88D40C5854895FF6A661CCA"
    },
    "cell_type" : "code",
    "source" : [ "import org.apache.spark.ml.regression.LinearRegression" ],
    "outputs" : [ ]
  }, {
    "metadata" : {
      "trusted" : true,
      "input_collapsed" : false,
      "collapsed" : false,
      "id" : "FDC1FE135D484D5A85F7BC9DB336377C"
    },
    "cell_type" : "code",
    "source" : [ "import org.apache.spark.ml.feature.VectorAssembler\n", "import org.apache.spark.ml.linalg.Vectors" ],
    "outputs" : [ ]
  }, {
    "metadata" : {
      "trusted" : true,
      "input_collapsed" : false,
      "collapsed" : false,
      "id" : "82712CD1336E48358DDA5AC4EBDEEFE9"
    },
    "cell_type" : "code",
    "source" : [ "data.describe()" ],
    "outputs" : [ ]
  }, {
    "metadata" : {
      "id" : "410E2A3678C349F297E77CC35E1F222F"
    },
    "cell_type" : "markdown",
    "source" : "### 1 feature : AAPL\n\nWe first try a model with just one feature"
  }, {
    "metadata" : {
      "trusted" : true,
      "input_collapsed" : false,
      "collapsed" : false,
      "id" : "042193CF7B9A49728839736B3F6E4C27"
    },
    "cell_type" : "code",
    "source" : [ "val frame = data.drop(\"date\").drop(\"DWDP\").drop(\"MMM\")\n", "//val features = Array(\"AAPL\")\n", "val features = frame.columns.filter(_ != \"JPM\")" ],
    "outputs" : [ ]
  }, {
    "metadata" : {
      "trusted" : true,
      "input_collapsed" : false,
      "collapsed" : false,
      "id" : "58FA1AC270B6491788028E94F8D04F50"
    },
    "cell_type" : "code",
    "source" : [ "\n", "val assembler = new VectorAssembler()\n", "                    .setInputCols(features)\n", "                    .setOutputCol(\"features\")\n", "\n", "val mlInput = assembler.transform(frame).select(\"JPM\", \"features\")\n" ],
    "outputs" : [ ]
  }, {
    "metadata" : {
      "trusted" : true,
      "input_collapsed" : false,
      "collapsed" : false,
      "id" : "02B7341C58A042DA8EBD74DA270C93FB"
    },
    "cell_type" : "code",
    "source" : [ "mlInput.show" ],
    "outputs" : [ ]
  }, {
    "metadata" : {
      "trusted" : true,
      "input_collapsed" : false,
      "collapsed" : false,
      "id" : "F7B0295664074C9C89E0885D8227D215"
    },
    "cell_type" : "code",
    "source" : [ "" ],
    "outputs" : [ ]
  }, {
    "metadata" : {
      "trusted" : true,
      "input_collapsed" : false,
      "collapsed" : false,
      "id" : "58E41EBD754C4054953FBA14F2955BD2"
    },
    "cell_type" : "code",
    "source" : [ "val lr = new LinearRegression()\n", "  .setMaxIter(10)\n", "  .setSolver(\"l-bfgs\")\n", "  .setRegParam(0.0)\n", "  .setLabelCol(\"JPM\")\n", "  //.setElasticNetParam(0.8)" ],
    "outputs" : [ ]
  }, {
    "metadata" : {
      "trusted" : true,
      "input_collapsed" : false,
      "collapsed" : false,
      "id" : "BD0964CCBA8A4D1B8205C65E8C62FE2B"
    },
    "cell_type" : "code",
    "source" : [ "val model = lr.fit(mlInput)" ],
    "outputs" : [ ]
  }, {
    "metadata" : {
      "trusted" : true,
      "input_collapsed" : false,
      "collapsed" : false,
      "id" : "CA33343F243C4A76A158D3CAB9817802"
    },
    "cell_type" : "code",
    "source" : [ "model.intercept" ],
    "outputs" : [ ]
  }, {
    "metadata" : {
      "trusted" : true,
      "input_collapsed" : false,
      "collapsed" : false,
      "id" : "0513DFECA739453884104BB8C2136AFD"
    },
    "cell_type" : "code",
    "source" : [ "model.coefficients" ],
    "outputs" : [ ]
  }, {
    "metadata" : {
      "trusted" : true,
      "input_collapsed" : false,
      "collapsed" : false,
      "presentation" : {
        "tabs_state" : "{\n  \"tab_id\": \"#tab209485398-1\"\n}",
        "pivot_chart_state" : "{\n  \"hiddenAttributes\": [],\n  \"menuLimit\": 200,\n  \"cols\": [],\n  \"rows\": [],\n  \"vals\": [],\n  \"exclusions\": {},\n  \"inclusions\": {},\n  \"unusedAttrsVertical\": 85,\n  \"autoSortUnusedAttrs\": false,\n  \"inclusionsInfo\": {},\n  \"aggregatorName\": \"Count\",\n  \"rendererName\": \"Table\"\n}"
      },
      "id" : "58BBF4A3AB27464F8D1DE6D529DD2416"
    },
    "cell_type" : "code",
    "source" : [ "model.summary.residuals.collect" ],
    "outputs" : [ ]
  }, {
    "metadata" : {
      "trusted" : true,
      "input_collapsed" : false,
      "collapsed" : false,
      "id" : "EF5F36A83F104849821B54839D4B3805"
    },
    "cell_type" : "code",
    "source" : [ "model.summary.rootMeanSquaredError" ],
    "outputs" : [ ]
  }, {
    "metadata" : {
      "id" : "0CBEAEFB9E7F45CD800C4791DB5AF5CF"
    },
    "cell_type" : "markdown",
    "source" : "* Training & validation (random)\n* Training & validation (2017/2018)\n* Binning volume\n* use binned volume as categories\n* New model with volume as feature"
  }, {
    "metadata" : {
      "id" : "B7A45A2E78B64E9D8028E3E66DFF36BB"
    },
    "cell_type" : "markdown",
    "source" : "### Random split for validation"
  }, {
    "metadata" : {
      "trusted" : true,
      "input_collapsed" : false,
      "collapsed" : false,
      "id" : "AE22338861E945078EC2693C4BB2ED6B"
    },
    "cell_type" : "code",
    "source" : [ "val frame = data.drop(\"DWDP\").drop(\"MMM\")\n", "val Array(training, validation) = frame.randomSplit(Array(0.7, 0.3))\n", "val features = Array(\"AAPL\")\n", "//val features = frame.columns.filter(_ != \"JPM\")" ],
    "outputs" : [ ]
  }, {
    "metadata" : {
      "trusted" : true,
      "input_collapsed" : false,
      "collapsed" : false,
      "id" : "1B7AED0F372B4503974693DA6632CCB7"
    },
    "cell_type" : "code",
    "source" : [ "val mlTrain = assembler.transform(training).select(\"date\",\"JPM\", \"features\")\n", "val mlValid = assembler.transform(validation).select(\"date\", \"JPM\", \"features\")" ],
    "outputs" : [ ]
  }, {
    "metadata" : {
      "trusted" : true,
      "input_collapsed" : false,
      "collapsed" : false,
      "id" : "8E96D7BBE2B5453F846852F9D4238F2A"
    },
    "cell_type" : "code",
    "source" : [ "val model = lr.fit(mlTrain)" ],
    "outputs" : [ ]
  }, {
    "metadata" : {
      "trusted" : true,
      "input_collapsed" : false,
      "collapsed" : false,
      "presentation" : {
        "tabs_state" : "{\n  \"tab_id\": \"#tab1391527311-0\"\n}",
        "pivot_chart_state" : "{\n  \"hiddenAttributes\": [],\n  \"menuLimit\": 200,\n  \"cols\": [],\n  \"rows\": [],\n  \"vals\": [],\n  \"exclusions\": {},\n  \"inclusions\": {},\n  \"unusedAttrsVertical\": 85,\n  \"autoSortUnusedAttrs\": false,\n  \"inclusionsInfo\": {},\n  \"aggregatorName\": \"Count\",\n  \"rendererName\": \"Table\"\n}"
      },
      "id" : "970FE784885E4CB181541CE0CB48D06F"
    },
    "cell_type" : "code",
    "source" : [ "model.transform(mlValid).select(\"date\", \"JPM\", \"prediction\").orderBy(\"date\")\n", "     .withColumn(\"residual\", $\"JPM\" - $\"prediction\" )\n", "     .select(\"date\", \"residual\")\n", "     .collect" ],
    "outputs" : [ ]
  }, {
    "metadata" : {
      "trusted" : true,
      "input_collapsed" : false,
      "collapsed" : false,
      "id" : "F922B149BABD487B9D741888BC392D8F"
    },
    "cell_type" : "code",
    "source" : [ "val evalModel = model.evaluate(mlValid)" ],
    "outputs" : [ ]
  }, {
    "metadata" : {
      "trusted" : true,
      "input_collapsed" : false,
      "collapsed" : false,
      "id" : "DA63D739140A425BB9C2D27E0FAD6618"
    },
    "cell_type" : "code",
    "source" : [ "evalModel.rootMeanSquaredError" ],
    "outputs" : [ ]
  }, {
    "metadata" : {
      "trusted" : true,
      "input_collapsed" : false,
      "collapsed" : false,
      "presentation" : {
        "tabs_state" : "{\n  \"tab_id\": \"#tab2131227759-0\"\n}",
        "pivot_chart_state" : "{\n  \"hiddenAttributes\": [],\n  \"menuLimit\": 200,\n  \"cols\": [],\n  \"rows\": [],\n  \"vals\": [],\n  \"exclusions\": {},\n  \"inclusions\": {},\n  \"unusedAttrsVertical\": 85,\n  \"autoSortUnusedAttrs\": false,\n  \"inclusionsInfo\": {},\n  \"aggregatorName\": \"Count\",\n  \"rendererName\": \"Table\"\n}"
      },
      "id" : "F87F388C0E084E43992ADABA63353754"
    },
    "cell_type" : "code",
    "source" : [ "evalModel.residuals.collect" ],
    "outputs" : [ ]
  }, {
    "metadata" : {
      "trusted" : true,
      "input_collapsed" : false,
      "collapsed" : false,
      "presentation" : {
        "tabs_state" : "{\n  \"tab_id\": \"#tab2045202917-0\"\n}",
        "pivot_chart_state" : "{\n  \"hiddenAttributes\": [],\n  \"menuLimit\": 200,\n  \"cols\": [\n    \"date\"\n  ],\n  \"rows\": [],\n  \"vals\": [\n    \"JPM\"\n  ],\n  \"exclusions\": {},\n  \"inclusions\": {},\n  \"unusedAttrsVertical\": 85,\n  \"autoSortUnusedAttrs\": false,\n  \"inclusionsInfo\": {},\n  \"aggregatorName\": \"Sum\",\n  \"rendererName\": \"Line Chart\"\n}"
      },
      "id" : "942A3E55CDED490A9026BD308F24F32A"
    },
    "cell_type" : "code",
    "source" : [ "evalModel.predictions.select(\"date\",\"JPM\",\"prediction\").collect" ],
    "outputs" : [ ]
  }, {
    "metadata" : {
      "trusted" : true,
      "input_collapsed" : false,
      "collapsed" : false,
      "presentation" : {
        "tabs_state" : "{\n  \"tab_id\": \"#tab332011527-1\"\n}",
        "pivot_chart_state" : "{\n  \"hiddenAttributes\": [],\n  \"menuLimit\": 200,\n  \"cols\": [],\n  \"rows\": [],\n  \"vals\": [],\n  \"exclusions\": {},\n  \"inclusions\": {},\n  \"unusedAttrsVertical\": 85,\n  \"autoSortUnusedAttrs\": false,\n  \"inclusionsInfo\": {},\n  \"aggregatorName\": \"Count\",\n  \"rendererName\": \"Table\"\n}"
      },
      "id" : "E8F4D2E36FFF4B94B909ACB8C6E5F507"
    },
    "cell_type" : "code",
    "source" : [ "evalModel.predictions.select(\"JPM\",\"prediction\").collect" ],
    "outputs" : [ ]
  }, {
    "metadata" : {
      "trusted" : true,
      "input_collapsed" : false,
      "collapsed" : true,
      "id" : "FDEC573EFB1045B9B95C44BDC98D0C9E"
    },
    "cell_type" : "code",
    "source" : [ "" ],
    "outputs" : [ ]
  } ],
  "nbformat" : 4
}