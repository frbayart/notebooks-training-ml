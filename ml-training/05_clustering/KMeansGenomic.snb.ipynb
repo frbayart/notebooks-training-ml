{
  "metadata" : {
    "name" : "KMeansGenomic",
    "user_save_timestamp" : "1970-01-01T01:00:00.000Z",
    "auto_save_timestamp" : "1970-01-01T01:00:00.000Z",
    "language_info" : {
      "name" : "scala",
      "file_extension" : "scala",
      "codemirror_mode" : "text/x-scala"
    },
    "trusted" : true,
    "customLocalRepo" : "${HOME}/.m2",
    "customRepos" : null,
    "customDeps" : [ ],
    "customImports" : null,
    "customArgs" : null,
    "customSparkConf" : {
      "spark.sql.shuffle.partitions" : "10",
      "spark.exacutoir.memory" : "6g"
    }
  },
  "cells" : [ {
    "metadata" : {
      "id" : "C1435E02DAA047FA99DA1A31355C0915"
    },
    "cell_type" : "markdown",
    "source" : "## Raw parquet file reading"
  }, {
    "metadata" : {
      "trusted" : true,
      "input_collapsed" : false,
      "collapsed" : false,
      "id" : "FB7C40868F624D908441286F66BA7E81"
    },
    "cell_type" : "code",
    "source" : "val vcf = \"/tmp/6-sample.vcf\"\nval localParquet = vcf+\"6\"+\".parquet\"",
    "outputs" : [ {
      "name" : "stdout",
      "output_type" : "stream",
      "text" : "vcf: String = /tmp/6-sample.vcf\nlocalParquet: String = /tmp/6-sample.vcf6.parquet\n"
    }, {
      "metadata" : { },
      "data" : {
        "text/html" : ""
      },
      "output_type" : "execute_result",
      "execution_count" : 1,
      "time" : "Took: 1 second 838 milliseconds, at 2018-4-17 2:10"
    } ]
  }, {
    "metadata" : {
      "trusted" : true,
      "input_collapsed" : false,
      "collapsed" : false,
      "id" : "775C1F4F7E1445F1B4DB97F09160E1EC"
    },
    "cell_type" : "code",
    "source" : "val rawDF = sparkSession.read.parquet(localParquet)",
    "outputs" : [ {
      "name" : "stdout",
      "output_type" : "stream",
      "text" : "rawDF: org.apache.spark.sql.DataFrame = [sampleId: string, variantId: string ... 1 more field]\n"
    }, {
      "metadata" : { },
      "data" : {
        "text/html" : ""
      },
      "output_type" : "execute_result",
      "execution_count" : 2,
      "time" : "Took: 5 seconds 604 milliseconds, at 2018-4-17 2:10"
    } ]
  }, {
    "metadata" : {
      "trusted" : true,
      "input_collapsed" : false,
      "collapsed" : false,
      "id" : "6F3DD15A0F2D4F65A8B62151FDAC6C74"
    },
    "cell_type" : "code",
    "source" : "// populations to select\nval pops = Set(\"GBR\", \"ASW\", \"CHB\")",
    "outputs" : [ {
      "name" : "stdout",
      "output_type" : "stream",
      "text" : "pops: scala.collection.immutable.Set[String] = Set(GBR, ASW, CHB)\n"
    }, {
      "metadata" : { },
      "data" : {
        "text/html" : ""
      },
      "output_type" : "execute_result",
      "execution_count" : 3,
      "time" : "Took: 1 second 639 milliseconds, at 2018-4-17 2:10"
    } ]
  }, {
    "metadata" : {
      "trusted" : true,
      "input_collapsed" : false,
      "collapsed" : false,
      "id" : "783077B152EB4DCA91F90D056BF4FCA3"
    },
    "cell_type" : "code",
    "source" : "import sys.process._\n\nval panelFile = \"/tmp/ALL.panel\"\n\ns\"wget ftp://ftp.1000genomes.ebi.ac.uk/vol1/ftp/release/20130502/integrated_call_samples_v3.20130502.ALL.panel -O ${panelFile}\"!!",
    "outputs" : [ {
      "name" : "stdout",
      "output_type" : "stream",
      "text" : "<console>:73: warning: postfix operator !! should be enabled\nby making the implicit value scala.language.postfixOps visible.\nThis can be achieved by adding the import clause 'import scala.language.postfixOps'\nor by setting the compiler option -language:postfixOps.\nSee the Scaladoc for value scala.language.postfixOps for a discussion\nwhy the feature should be explicitly enabled.\n       s\"wget ftp://ftp.1000genomes.ebi.ac.uk/vol1/ftp/release/20130502/integrated_call_samples_v3.20130502.ALL.panel -O ${panelFile}\"!!\n                                                                                                                                      ^\nimport sys.process._\npanelFile: String = /tmp/ALL.panel\nres4: String = \"\"\n"
    }, {
      "metadata" : { },
      "data" : {
        "text/html" : ""
      },
      "output_type" : "execute_result",
      "execution_count" : 4,
      "time" : "Took: 3 seconds 54 milliseconds, at 2018-4-17 2:10"
    } ]
  }, {
    "metadata" : {
      "trusted" : true,
      "input_collapsed" : false,
      "collapsed" : false,
      "id" : "F3735AD83F824FE08F257E6412C5CBFB"
    },
    "cell_type" : "code",
    "source" : "import scala.io.Source\ndef extract(filter: (String, String) => Boolean= (s, t) => true) = Source.fromFile(panelFile).getLines().map( line => {\n  val toks = line.split(\"\\t\").toList\n  toks(0) -> toks(1)\n}).toMap.filter( tup => filter(tup._1, tup._2) )\n  \n// panel extract from file, filtering by the 2 populations\nval panel: Map[String,String] = \n  extract((sampleID: String, pop: String) => pops.contains(pop)) \n  \nval panelSamples = panel.keys.toList\n// broadcast the panel \n//val bPanel = sparkContext.broadcast(panel)",
    "outputs" : [ {
      "name" : "stdout",
      "output_type" : "stream",
      "text" : "import scala.io.Source\nextract: (filter: (String, String) => Boolean)scala.collection.immutable.Map[String,String]\npanel: Map[String,String] = Map(HG00139 -> GBR, NA18550 -> CHB, HG00254 -> GBR, NA18630 -> CHB, NA18532 -> CHB, NA18641 -> CHB, HG00128 -> GBR, NA18631 -> CHB, NA19920 -> ASW, NA18636 -> CHB, HG00232 -> GBR, NA20318 -> ASW, HG01789 -> GBR, NA18542 -> CHB, HG00109 -> GBR, NA20355 -> ASW, NA18614 -> CHB, HG00119 -> GBR, NA18625 -> CHB, HG00258 -> GBR, NA19819 -> ASW, NA18564 -> CHB, NA18595 -> CHB, HG00243 -> GBR, HG00159 -> GBR, NA19917 -> ASW, NA18553 -> CHB, NA18573 -> CHB, HG00265 -> GBR, HG00105 -> GBR, HG00117 -> GBR, NA20320 -> ASW, NA18647 -> CHB, NA18620 -> CHB, HG00127 -> GBR, NA18539 -> CHB, NA20359 -> ASW, NA20340 -> ASW, NA19834 -> ASW, NA18579 -> CHB, NA18591 ->..."
    }, {
      "metadata" : { },
      "data" : {
        "text/html" : ""
      },
      "output_type" : "execute_result",
      "execution_count" : 5,
      "time" : "Took: 1 second 983 milliseconds, at 2018-4-17 2:10"
    } ]
  }, {
    "metadata" : {
      "trusted" : true,
      "input_collapsed" : false,
      "collapsed" : false,
      "presentation" : {
        "tabs_state" : "{\n  \"tab_id\": \"#tab208471038-0\"\n}",
        "pivot_chart_state" : "{\n  \"hiddenAttributes\": [],\n  \"menuLimit\": 200,\n  \"cols\": [],\n  \"rows\": [],\n  \"vals\": [],\n  \"exclusions\": {},\n  \"inclusions\": {},\n  \"unusedAttrsVertical\": 85,\n  \"autoSortUnusedAttrs\": false,\n  \"inclusionsInfo\": {},\n  \"aggregatorName\": \"Count\",\n  \"rendererName\": \"Table\"\n}"
      },
      "id" : "5731B3A362534186B34EBC1BC803EA56"
    },
    "cell_type" : "code",
    "source" : "panelSamples",
    "outputs" : [ {
      "name" : "stdout",
      "output_type" : "stream",
      "text" : "res7: List[String] = List(HG00139, NA18550, HG00254, NA18630, NA18532, NA18641, HG00128, NA18631, NA19920, NA18636, HG00232, NA20318, HG01789, NA18542, HG00109, NA20355, NA18614, HG00119, NA18625, HG00258, NA19819, NA18564, NA18595, HG00243, HG00159, NA19917, NA18553, NA18573, HG00265, HG00105, HG00117, NA20320, NA18647, NA18620, HG00127, NA18539, NA20359, NA20340, NA19834, NA18579, NA18591, HG00116, HG00106, HG00146, NA18557, NA18597, NA18562, HG00251, NA18609, HG00262, NA18603, NA18643, NA20281, NA19982, NA19711, NA18613, HG00240, NA18536, HG00151, NA20334, NA19700, NA20348, HG00099, HG00138, NA18546, NA18610, NA18531, NA18637, NA18525, NA18545, NA18621, NA18745, NA18626, HG00242, HG00150, NA19901, NA19712, NA20362, HG00239, NA19701, HG00149, HG00123, HG00097, HG00112, NA20342, HG0026..."
    }, {
      "metadata" : { },
      "data" : {
        "text/html" : "<div>\n      <script data-this=\"{&quot;dataId&quot;:&quot;anon0a6bfcee581d1da275cb35ae8fe31ec7&quot;,&quot;dataInit&quot;:[],&quot;genId&quot;:&quot;208471038&quot;}\" type=\"text/x-scoped-javascript\">/*<![CDATA[*/req(['../javascripts/notebook/playground','../javascripts/notebook/magic/tabs'], \n      function(playground, _magictabs) {\n        // data ==> data-this (in observable.js's scopedEval) ==> this in JS => { dataId, dataInit, ... }\n        // this ==> scope (in observable.js's scopedEval) ==> this.parentElement ==> div.container below (toHtml)\n\n        playground.call(data,\n                        this\n                        ,\n                        {\n    \"f\": _magictabs,\n    \"o\": {}\n  }\n  \n                        \n                        \n                      );\n      }\n    );/*]]>*/</script>\n    <div>\n      <div>\n        <ul class=\"nav nav-tabs\" id=\"ul208471038\"><li>\n              <a href=\"#tab208471038-0\"><i class=\"fa fa-table\"/></a>\n            </li><li>\n              <a href=\"#tab208471038-1\"><i class=\"fa fa-cubes\"/></a>\n            </li></ul>\n\n        <div class=\"tab-content\" id=\"tab208471038\"><div class=\"tab-pane\" id=\"tab208471038-0\">\n            <div>\n      <script data-this=\"{&quot;dataId&quot;:&quot;anon73f475c26dff3606efb4e79379ef4803&quot;,&quot;dataInit&quot;:[{&quot;string value&quot;:&quot;HG00139&quot;},{&quot;string value&quot;:&quot;NA18550&quot;},{&quot;string value&quot;:&quot;HG00254&quot;},{&quot;string value&quot;:&quot;NA18630&quot;},{&quot;string value&quot;:&quot;NA18532&quot;},{&quot;string value&quot;:&quot;NA18641&quot;},{&quot;string value&quot;:&quot;HG00128&quot;},{&quot;string value&quot;:&quot;NA18631&quot;},{&quot;string value&quot;:&quot;NA19920&quot;},{&quot;string value&quot;:&quot;NA18636&quot;},{&quot;string value&quot;:&quot;HG00232&quot;},{&quot;string value&quot;:&quot;NA20318&quot;},{&quot;string value&quot;:&quot;HG01789&quot;},{&quot;string value&quot;:&quot;NA18542&quot;},{&quot;string value&quot;:&quot;HG00109&quot;},{&quot;string value&quot;:&quot;NA20355&quot;},{&quot;string value&quot;:&quot;NA18614&quot;},{&quot;string value&quot;:&quot;HG00119&quot;},{&quot;string value&quot;:&quot;NA18625&quot;},{&quot;string value&quot;:&quot;HG00258&quot;},{&quot;string value&quot;:&quot;NA19819&quot;},{&quot;string value&quot;:&quot;NA18564&quot;},{&quot;string value&quot;:&quot;NA18595&quot;},{&quot;string value&quot;:&quot;HG00243&quot;},{&quot;string value&quot;:&quot;HG00159&quot;},{&quot;string value&quot;:&quot;NA19917&quot;},{&quot;string value&quot;:&quot;NA18553&quot;},{&quot;string value&quot;:&quot;NA18573&quot;},{&quot;string value&quot;:&quot;HG00265&quot;},{&quot;string value&quot;:&quot;HG00105&quot;},{&quot;string value&quot;:&quot;HG00117&quot;},{&quot;string value&quot;:&quot;NA20320&quot;},{&quot;string value&quot;:&quot;NA18647&quot;},{&quot;string value&quot;:&quot;NA18620&quot;},{&quot;string value&quot;:&quot;HG00127&quot;},{&quot;string value&quot;:&quot;NA18539&quot;},{&quot;string value&quot;:&quot;NA20359&quot;},{&quot;string value&quot;:&quot;NA20340&quot;},{&quot;string value&quot;:&quot;NA19834&quot;},{&quot;string value&quot;:&quot;NA18579&quot;},{&quot;string value&quot;:&quot;NA18591&quot;},{&quot;string value&quot;:&quot;HG00116&quot;},{&quot;string value&quot;:&quot;HG00106&quot;},{&quot;string value&quot;:&quot;HG00146&quot;},{&quot;string value&quot;:&quot;NA18557&quot;},{&quot;string value&quot;:&quot;NA18597&quot;},{&quot;string value&quot;:&quot;NA18562&quot;},{&quot;string value&quot;:&quot;HG00251&quot;},{&quot;string value&quot;:&quot;NA18609&quot;},{&quot;string value&quot;:&quot;HG00262&quot;},{&quot;string value&quot;:&quot;NA18603&quot;},{&quot;string value&quot;:&quot;NA18643&quot;},{&quot;string value&quot;:&quot;NA20281&quot;},{&quot;string value&quot;:&quot;NA19982&quot;},{&quot;string value&quot;:&quot;NA19711&quot;},{&quot;string value&quot;:&quot;NA18613&quot;},{&quot;string value&quot;:&quot;HG00240&quot;},{&quot;string value&quot;:&quot;NA18536&quot;},{&quot;string value&quot;:&quot;HG00151&quot;},{&quot;string value&quot;:&quot;NA20334&quot;},{&quot;string value&quot;:&quot;NA19700&quot;},{&quot;string value&quot;:&quot;NA20348&quot;},{&quot;string value&quot;:&quot;HG00099&quot;},{&quot;string value&quot;:&quot;HG00138&quot;},{&quot;string value&quot;:&quot;NA18546&quot;},{&quot;string value&quot;:&quot;NA18610&quot;},{&quot;string value&quot;:&quot;NA18531&quot;},{&quot;string value&quot;:&quot;NA18637&quot;},{&quot;string value&quot;:&quot;NA18525&quot;},{&quot;string value&quot;:&quot;NA18545&quot;},{&quot;string value&quot;:&quot;NA18621&quot;},{&quot;string value&quot;:&quot;NA18745&quot;},{&quot;string value&quot;:&quot;NA18626&quot;},{&quot;string value&quot;:&quot;HG00242&quot;},{&quot;string value&quot;:&quot;HG00150&quot;},{&quot;string value&quot;:&quot;NA19901&quot;},{&quot;string value&quot;:&quot;NA19712&quot;},{&quot;string value&quot;:&quot;NA20362&quot;},{&quot;string value&quot;:&quot;HG00239&quot;},{&quot;string value&quot;:&quot;NA19701&quot;},{&quot;string value&quot;:&quot;HG00149&quot;},{&quot;string value&quot;:&quot;HG00123&quot;},{&quot;string value&quot;:&quot;HG00097&quot;},{&quot;string value&quot;:&quot;HG00112&quot;},{&quot;string value&quot;:&quot;NA20342&quot;},{&quot;string value&quot;:&quot;HG00263&quot;},{&quot;string value&quot;:&quot;NA18608&quot;},{&quot;string value&quot;:&quot;NA18549&quot;},{&quot;string value&quot;:&quot;NA18574&quot;},{&quot;string value&quot;:&quot;NA20356&quot;},{&quot;string value&quot;:&quot;HG00253&quot;},{&quot;string value&quot;:&quot;NA20412&quot;},{&quot;string value&quot;:&quot;HG00235&quot;},{&quot;string value&quot;:&quot;NA18596&quot;},{&quot;string value&quot;:&quot;NA19713&quot;},{&quot;string value&quot;:&quot;NA18648&quot;},{&quot;string value&quot;:&quot;NA18538&quot;},{&quot;string value&quot;:&quot;NA20351&quot;},{&quot;string value&quot;:&quot;HG00145&quot;},{&quot;string value&quot;:&quot;NA18615&quot;},{&quot;string value&quot;:&quot;NA18632&quot;},{&quot;string value&quot;:&quot;NA18567&quot;},{&quot;string value&quot;:&quot;NA18605&quot;},{&quot;string value&quot;:&quot;HG00157&quot;},{&quot;string value&quot;:&quot;NA19707&quot;},{&quot;string value&quot;:&quot;NA18627&quot;},{&quot;string value&quot;:&quot;HG00115&quot;},{&quot;string value&quot;:&quot;HG00264&quot;},{&quot;string value&quot;:&quot;NA18619&quot;},{&quot;string value&quot;:&quot;NA19818&quot;},{&quot;string value&quot;:&quot;HG00257&quot;},{&quot;string value&quot;:&quot;NA18552&quot;},{&quot;string value&quot;:&quot;HG00231&quot;},{&quot;string value&quot;:&quot;NA18592&quot;},{&quot;string value&quot;:&quot;HG00252&quot;},{&quot;string value&quot;:&quot;NA18644&quot;},{&quot;string value&quot;:&quot;NA20296&quot;},{&quot;string value&quot;:&quot;HG00137&quot;},{&quot;string value&quot;:&quot;HG00101&quot;},{&quot;string value&quot;:&quot;NA18563&quot;},{&quot;string value&quot;:&quot;NA18638&quot;},{&quot;string value&quot;:&quot;NA18535&quot;},{&quot;string value&quot;:&quot;NA20291&quot;},{&quot;string value&quot;:&quot;NA18616&quot;},{&quot;string value&quot;:&quot;NA19914&quot;},{&quot;string value&quot;:&quot;NA18541&quot;},{&quot;string value&quot;:&quot;HG00140&quot;},{&quot;string value&quot;:&quot;HG00238&quot;},{&quot;string value&quot;:&quot;NA20274&quot;},{&quot;string value&quot;:&quot;NA19835&quot;},{&quot;string value&quot;:&quot;NA19921&quot;},{&quot;string value&quot;:&quot;NA18622&quot;},{&quot;string value&quot;:&quot;HG00160&quot;},{&quot;string value&quot;:&quot;HG00246&quot;},{&quot;string value&quot;:&quot;HG00126&quot;},{&quot;string value&quot;:&quot;NA20314&quot;},{&quot;string value&quot;:&quot;NA18571&quot;},{&quot;string value&quot;:&quot;NA18559&quot;},{&quot;string value&quot;:&quot;NA18599&quot;},{&quot;string value&quot;:&quot;NA20346&quot;},{&quot;string value&quot;:&quot;HG00103&quot;},{&quot;string value&quot;:&quot;NA18570&quot;},{&quot;string value&quot;:&quot;NA19904&quot;},{&quot;string value&quot;:&quot;NA20126&quot;},{&quot;string value&quot;:&quot;NA19984&quot;},{&quot;string value&quot;:&quot;NA18623&quot;},{&quot;string value&quot;:&quot;NA18757&quot;},{&quot;string value&quot;:&quot;HG00122&quot;},{&quot;string value&quot;:&quot;NA18611&quot;},{&quot;string value&quot;:&quot;NA18534&quot;},{&quot;string value&quot;:&quot;NA18582&quot;},{&quot;string value&quot;:&quot;NA20278&quot;},{&quot;string value&quot;:&quot;NA18555&quot;},{&quot;string value&quot;:&quot;NA19900&quot;},{&quot;string value&quot;:&quot;NA18633&quot;},{&quot;string value&quot;:&quot;NA20289&quot;},{&quot;string value&quot;:&quot;HG00148&quot;},{&quot;string value&quot;:&quot;HG00096&quot;},{&quot;string value&quot;:&quot;NA18634&quot;},{&quot;string value&quot;:&quot;NA18645&quot;},{&quot;string value&quot;:&quot;NA18544&quot;},{&quot;string value&quot;:&quot;NA19703&quot;},{&quot;string value&quot;:&quot;NA18526&quot;},{&quot;string value&quot;:&quot;HG00107&quot;},{&quot;string value&quot;:&quot;NA18740&quot;},{&quot;string value&quot;:&quot;NA20357&quot;},{&quot;string value&quot;:&quot;HG00256&quot;},{&quot;string value&quot;:&quot;NA18566&quot;},{&quot;string value&quot;:&quot;HG00133&quot;},{&quot;string value&quot;:&quot;NA18593&quot;},{&quot;string value&quot;:&quot;NA18528&quot;},{&quot;string value&quot;:&quot;HG00130&quot;},{&quot;string value&quot;:&quot;HG00245&quot;},{&quot;string value&quot;:&quot;NA20332&quot;},{&quot;string value&quot;:&quot;NA19922&quot;},{&quot;string value&quot;:&quot;HG00234&quot;},{&quot;string value&quot;:&quot;HG00237&quot;},{&quot;string value&quot;:&quot;NA18548&quot;},{&quot;string value&quot;:&quot;NA18629&quot;},{&quot;string value&quot;:&quot;NA18577&quot;},{&quot;string value&quot;:&quot;NA18618&quot;},{&quot;string value&quot;:&quot;HG00118&quot;},{&quot;string value&quot;:&quot;HG00158&quot;},{&quot;string value&quot;:&quot;NA19916&quot;},{&quot;string value&quot;:&quot;NA20294&quot;},{&quot;string value&quot;:&quot;HG01790&quot;},{&quot;string value&quot;:&quot;HG00141&quot;},{&quot;string value&quot;:&quot;NA19908&quot;},{&quot;string value&quot;:&quot;HG00100&quot;},{&quot;string value&quot;:&quot;NA20321&quot;},{&quot;string value&quot;:&quot;NA18749&quot;},{&quot;string value&quot;:&quot;HG00111&quot;},{&quot;string value&quot;:&quot;HG00129&quot;},{&quot;string value&quot;:&quot;NA18640&quot;},{&quot;string value&quot;:&quot;NA20317&quot;},{&quot;string value&quot;:&quot;HG00154&quot;},{&quot;string value&quot;:&quot;HG00114&quot;},{&quot;string value&quot;:&quot;HG00244&quot;},{&quot;string value&quot;:&quot;NA19625&quot;},{&quot;string value&quot;:&quot;NA18646&quot;},{&quot;string value&quot;:&quot;NA18560&quot;},{&quot;string value&quot;:&quot;NA20299&quot;},{&quot;string value&quot;:&quot;HG00143&quot;},{&quot;string value&quot;:&quot;NA20339&quot;},{&quot;string value&quot;:&quot;HG00132&quot;},{&quot;string value&quot;:&quot;NA18565&quot;},{&quot;string value&quot;:&quot;NA19913&quot;},{&quot;string value&quot;:&quot;HG00125&quot;},{&quot;string value&quot;:&quot;HG00110&quot;},{&quot;string value&quot;:&quot;NA18543&quot;},{&quot;string value&quot;:&quot;HG00113&quot;},{&quot;string value&quot;:&quot;HG00261&quot;},{&quot;string value&quot;:&quot;NA19704&quot;},{&quot;string value&quot;:&quot;NA18572&quot;},{&quot;string value&quot;:&quot;HG00259&quot;},{&quot;string value&quot;:&quot;NA18624&quot;},{&quot;string value&quot;:&quot;HG00233&quot;},{&quot;string value&quot;:&quot;HG00108&quot;},{&quot;string value&quot;:&quot;HG00136&quot;},{&quot;string value&quot;:&quot;HG00260&quot;},{&quot;string value&quot;:&quot;NA18533&quot;},{&quot;string value&quot;:&quot;HG00121&quot;},{&quot;string value&quot;:&quot;NA18635&quot;},{&quot;string value&quot;:&quot;NA18606&quot;},{&quot;string value&quot;:&quot;HG00255&quot;},{&quot;string value&quot;:&quot;NA18747&quot;},{&quot;string value&quot;:&quot;HG00131&quot;},{&quot;string value&quot;:&quot;NA19923&quot;},{&quot;string value&quot;:&quot;NA18639&quot;},{&quot;string value&quot;:&quot;NA18558&quot;},{&quot;string value&quot;:&quot;HG00120&quot;},{&quot;string value&quot;:&quot;HG00155&quot;},{&quot;string value&quot;:&quot;NA18537&quot;},{&quot;string value&quot;:&quot;HG01791&quot;},{&quot;string value&quot;:&quot;HG02215&quot;},{&quot;string value&quot;:&quot;NA19909&quot;},{&quot;string value&quot;:&quot;HG00250&quot;},{&quot;string value&quot;:&quot;NA20127&quot;},{&quot;string value&quot;:&quot;NA18642&quot;},{&quot;string value&quot;:&quot;NA18602&quot;},{&quot;string value&quot;:&quot;NA18612&quot;},{&quot;string value&quot;:&quot;NA18628&quot;},{&quot;string value&quot;:&quot;NA18561&quot;},{&quot;string value&quot;:&quot;NA20298&quot;},{&quot;string value&quot;:&quot;HG01334&quot;},{&quot;string value&quot;:&quot;HG00102&quot;},{&quot;string value&quot;:&quot;NA18748&quot;},{&quot;string value&quot;:&quot;HG00142&quot;},{&quot;string value&quot;:&quot;NA20282&quot;},{&quot;string value&quot;:&quot;NA18547&quot;},{&quot;string value&quot;:&quot;NA20276&quot;},{&quot;string value&quot;:&quot;HG00236&quot;},{&quot;string value&quot;:&quot;NA18530&quot;},{&quot;string value&quot;:&quot;NA18617&quot;},{&quot;string value&quot;:&quot;NA20287&quot;}],&quot;genId&quot;:&quot;109776393&quot;}\" type=\"text/x-scoped-javascript\">/*<![CDATA[*/req(['../javascripts/notebook/playground','../javascripts/notebook/magic/tableChart'], \n      function(playground, _magictableChart) {\n        // data ==> data-this (in observable.js's scopedEval) ==> this in JS => { dataId, dataInit, ... }\n        // this ==> scope (in observable.js's scopedEval) ==> this.parentElement ==> div.container below (toHtml)\n\n        playground.call(data,\n                        this\n                        ,\n                        {\n    \"f\": _magictableChart,\n    \"o\": {\"headers\":[\"string value\"],\"width\":600,\"height\":400}\n  }\n  \n                        \n                        \n                      );\n      }\n    );/*]]>*/</script>\n    <div>\n      <span class=\"chart-total-item-count\"><p data-bind=\"text: value\"><script data-this=\"{&quot;valueId&quot;:&quot;anondc7a5bf9d14cc8381dcc7a080eea6609&quot;,&quot;initialValue&quot;:&quot;255&quot;}\" type=\"text/x-scoped-javascript\">/*<![CDATA[*/\nreq(\n['observable', 'knockout'],\nfunction (O, ko) {\n  ko.applyBindings({\n      value: O.makeObservable(valueId, initialValue)\n    },\n    this\n  );\n});\n        /*]]>*/</script></p> entries total</span>\n      <span class=\"chart-sampling-warning\"><p data-bind=\"text: value\"><script data-this=\"{&quot;valueId&quot;:&quot;anon45d2baa7ca8672669e54fe4ea41448fa&quot;,&quot;initialValue&quot;:&quot;&quot;}\" type=\"text/x-scoped-javascript\">/*<![CDATA[*/\nreq(\n['observable', 'knockout'],\nfunction (O, ko) {\n  ko.applyBindings({\n      value: O.makeObservable(valueId, initialValue)\n    },\n    this\n  );\n});\n        /*]]>*/</script></p></span>\n      <div>\n      </div>\n    </div></div>\n            </div><div class=\"tab-pane\" id=\"tab208471038-1\">\n            <div>\n      <script data-this=\"{&quot;dataId&quot;:&quot;anon1ee9c81b18f80137e7d8d845a0b9bc63&quot;,&quot;dataInit&quot;:[{&quot;string value&quot;:&quot;HG00139&quot;},{&quot;string value&quot;:&quot;NA18550&quot;},{&quot;string value&quot;:&quot;HG00254&quot;},{&quot;string value&quot;:&quot;NA18630&quot;},{&quot;string value&quot;:&quot;NA18532&quot;},{&quot;string value&quot;:&quot;NA18641&quot;},{&quot;string value&quot;:&quot;HG00128&quot;},{&quot;string value&quot;:&quot;NA18631&quot;},{&quot;string value&quot;:&quot;NA19920&quot;},{&quot;string value&quot;:&quot;NA18636&quot;},{&quot;string value&quot;:&quot;HG00232&quot;},{&quot;string value&quot;:&quot;NA20318&quot;},{&quot;string value&quot;:&quot;HG01789&quot;},{&quot;string value&quot;:&quot;NA18542&quot;},{&quot;string value&quot;:&quot;HG00109&quot;},{&quot;string value&quot;:&quot;NA20355&quot;},{&quot;string value&quot;:&quot;NA18614&quot;},{&quot;string value&quot;:&quot;HG00119&quot;},{&quot;string value&quot;:&quot;NA18625&quot;},{&quot;string value&quot;:&quot;HG00258&quot;},{&quot;string value&quot;:&quot;NA19819&quot;},{&quot;string value&quot;:&quot;NA18564&quot;},{&quot;string value&quot;:&quot;NA18595&quot;},{&quot;string value&quot;:&quot;HG00243&quot;},{&quot;string value&quot;:&quot;HG00159&quot;},{&quot;string value&quot;:&quot;NA19917&quot;},{&quot;string value&quot;:&quot;NA18553&quot;},{&quot;string value&quot;:&quot;NA18573&quot;},{&quot;string value&quot;:&quot;HG00265&quot;},{&quot;string value&quot;:&quot;HG00105&quot;},{&quot;string value&quot;:&quot;HG00117&quot;},{&quot;string value&quot;:&quot;NA20320&quot;},{&quot;string value&quot;:&quot;NA18647&quot;},{&quot;string value&quot;:&quot;NA18620&quot;},{&quot;string value&quot;:&quot;HG00127&quot;},{&quot;string value&quot;:&quot;NA18539&quot;},{&quot;string value&quot;:&quot;NA20359&quot;},{&quot;string value&quot;:&quot;NA20340&quot;},{&quot;string value&quot;:&quot;NA19834&quot;},{&quot;string value&quot;:&quot;NA18579&quot;},{&quot;string value&quot;:&quot;NA18591&quot;},{&quot;string value&quot;:&quot;HG00116&quot;},{&quot;string value&quot;:&quot;HG00106&quot;},{&quot;string value&quot;:&quot;HG00146&quot;},{&quot;string value&quot;:&quot;NA18557&quot;},{&quot;string value&quot;:&quot;NA18597&quot;},{&quot;string value&quot;:&quot;NA18562&quot;},{&quot;string value&quot;:&quot;HG00251&quot;},{&quot;string value&quot;:&quot;NA18609&quot;},{&quot;string value&quot;:&quot;HG00262&quot;},{&quot;string value&quot;:&quot;NA18603&quot;},{&quot;string value&quot;:&quot;NA18643&quot;},{&quot;string value&quot;:&quot;NA20281&quot;},{&quot;string value&quot;:&quot;NA19982&quot;},{&quot;string value&quot;:&quot;NA19711&quot;},{&quot;string value&quot;:&quot;NA18613&quot;},{&quot;string value&quot;:&quot;HG00240&quot;},{&quot;string value&quot;:&quot;NA18536&quot;},{&quot;string value&quot;:&quot;HG00151&quot;},{&quot;string value&quot;:&quot;NA20334&quot;},{&quot;string value&quot;:&quot;NA19700&quot;},{&quot;string value&quot;:&quot;NA20348&quot;},{&quot;string value&quot;:&quot;HG00099&quot;},{&quot;string value&quot;:&quot;HG00138&quot;},{&quot;string value&quot;:&quot;NA18546&quot;},{&quot;string value&quot;:&quot;NA18610&quot;},{&quot;string value&quot;:&quot;NA18531&quot;},{&quot;string value&quot;:&quot;NA18637&quot;},{&quot;string value&quot;:&quot;NA18525&quot;},{&quot;string value&quot;:&quot;NA18545&quot;},{&quot;string value&quot;:&quot;NA18621&quot;},{&quot;string value&quot;:&quot;NA18745&quot;},{&quot;string value&quot;:&quot;NA18626&quot;},{&quot;string value&quot;:&quot;HG00242&quot;},{&quot;string value&quot;:&quot;HG00150&quot;},{&quot;string value&quot;:&quot;NA19901&quot;},{&quot;string value&quot;:&quot;NA19712&quot;},{&quot;string value&quot;:&quot;NA20362&quot;},{&quot;string value&quot;:&quot;HG00239&quot;},{&quot;string value&quot;:&quot;NA19701&quot;},{&quot;string value&quot;:&quot;HG00149&quot;},{&quot;string value&quot;:&quot;HG00123&quot;},{&quot;string value&quot;:&quot;HG00097&quot;},{&quot;string value&quot;:&quot;HG00112&quot;},{&quot;string value&quot;:&quot;NA20342&quot;},{&quot;string value&quot;:&quot;HG00263&quot;},{&quot;string value&quot;:&quot;NA18608&quot;},{&quot;string value&quot;:&quot;NA18549&quot;},{&quot;string value&quot;:&quot;NA18574&quot;},{&quot;string value&quot;:&quot;NA20356&quot;},{&quot;string value&quot;:&quot;HG00253&quot;},{&quot;string value&quot;:&quot;NA20412&quot;},{&quot;string value&quot;:&quot;HG00235&quot;},{&quot;string value&quot;:&quot;NA18596&quot;},{&quot;string value&quot;:&quot;NA19713&quot;},{&quot;string value&quot;:&quot;NA18648&quot;},{&quot;string value&quot;:&quot;NA18538&quot;},{&quot;string value&quot;:&quot;NA20351&quot;},{&quot;string value&quot;:&quot;HG00145&quot;},{&quot;string value&quot;:&quot;NA18615&quot;},{&quot;string value&quot;:&quot;NA18632&quot;},{&quot;string value&quot;:&quot;NA18567&quot;},{&quot;string value&quot;:&quot;NA18605&quot;},{&quot;string value&quot;:&quot;HG00157&quot;},{&quot;string value&quot;:&quot;NA19707&quot;},{&quot;string value&quot;:&quot;NA18627&quot;},{&quot;string value&quot;:&quot;HG00115&quot;},{&quot;string value&quot;:&quot;HG00264&quot;},{&quot;string value&quot;:&quot;NA18619&quot;},{&quot;string value&quot;:&quot;NA19818&quot;},{&quot;string value&quot;:&quot;HG00257&quot;},{&quot;string value&quot;:&quot;NA18552&quot;},{&quot;string value&quot;:&quot;HG00231&quot;},{&quot;string value&quot;:&quot;NA18592&quot;},{&quot;string value&quot;:&quot;HG00252&quot;},{&quot;string value&quot;:&quot;NA18644&quot;},{&quot;string value&quot;:&quot;NA20296&quot;},{&quot;string value&quot;:&quot;HG00137&quot;},{&quot;string value&quot;:&quot;HG00101&quot;},{&quot;string value&quot;:&quot;NA18563&quot;},{&quot;string value&quot;:&quot;NA18638&quot;},{&quot;string value&quot;:&quot;NA18535&quot;},{&quot;string value&quot;:&quot;NA20291&quot;},{&quot;string value&quot;:&quot;NA18616&quot;},{&quot;string value&quot;:&quot;NA19914&quot;},{&quot;string value&quot;:&quot;NA18541&quot;},{&quot;string value&quot;:&quot;HG00140&quot;},{&quot;string value&quot;:&quot;HG00238&quot;},{&quot;string value&quot;:&quot;NA20274&quot;},{&quot;string value&quot;:&quot;NA19835&quot;},{&quot;string value&quot;:&quot;NA19921&quot;},{&quot;string value&quot;:&quot;NA18622&quot;},{&quot;string value&quot;:&quot;HG00160&quot;},{&quot;string value&quot;:&quot;HG00246&quot;},{&quot;string value&quot;:&quot;HG00126&quot;},{&quot;string value&quot;:&quot;NA20314&quot;},{&quot;string value&quot;:&quot;NA18571&quot;},{&quot;string value&quot;:&quot;NA18559&quot;},{&quot;string value&quot;:&quot;NA18599&quot;},{&quot;string value&quot;:&quot;NA20346&quot;},{&quot;string value&quot;:&quot;HG00103&quot;},{&quot;string value&quot;:&quot;NA18570&quot;},{&quot;string value&quot;:&quot;NA19904&quot;},{&quot;string value&quot;:&quot;NA20126&quot;},{&quot;string value&quot;:&quot;NA19984&quot;},{&quot;string value&quot;:&quot;NA18623&quot;},{&quot;string value&quot;:&quot;NA18757&quot;},{&quot;string value&quot;:&quot;HG00122&quot;},{&quot;string value&quot;:&quot;NA18611&quot;},{&quot;string value&quot;:&quot;NA18534&quot;},{&quot;string value&quot;:&quot;NA18582&quot;},{&quot;string value&quot;:&quot;NA20278&quot;},{&quot;string value&quot;:&quot;NA18555&quot;},{&quot;string value&quot;:&quot;NA19900&quot;},{&quot;string value&quot;:&quot;NA18633&quot;},{&quot;string value&quot;:&quot;NA20289&quot;},{&quot;string value&quot;:&quot;HG00148&quot;},{&quot;string value&quot;:&quot;HG00096&quot;},{&quot;string value&quot;:&quot;NA18634&quot;},{&quot;string value&quot;:&quot;NA18645&quot;},{&quot;string value&quot;:&quot;NA18544&quot;},{&quot;string value&quot;:&quot;NA19703&quot;},{&quot;string value&quot;:&quot;NA18526&quot;},{&quot;string value&quot;:&quot;HG00107&quot;},{&quot;string value&quot;:&quot;NA18740&quot;},{&quot;string value&quot;:&quot;NA20357&quot;},{&quot;string value&quot;:&quot;HG00256&quot;},{&quot;string value&quot;:&quot;NA18566&quot;},{&quot;string value&quot;:&quot;HG00133&quot;},{&quot;string value&quot;:&quot;NA18593&quot;},{&quot;string value&quot;:&quot;NA18528&quot;},{&quot;string value&quot;:&quot;HG00130&quot;},{&quot;string value&quot;:&quot;HG00245&quot;},{&quot;string value&quot;:&quot;NA20332&quot;},{&quot;string value&quot;:&quot;NA19922&quot;},{&quot;string value&quot;:&quot;HG00234&quot;},{&quot;string value&quot;:&quot;HG00237&quot;},{&quot;string value&quot;:&quot;NA18548&quot;},{&quot;string value&quot;:&quot;NA18629&quot;},{&quot;string value&quot;:&quot;NA18577&quot;},{&quot;string value&quot;:&quot;NA18618&quot;},{&quot;string value&quot;:&quot;HG00118&quot;},{&quot;string value&quot;:&quot;HG00158&quot;},{&quot;string value&quot;:&quot;NA19916&quot;},{&quot;string value&quot;:&quot;NA20294&quot;},{&quot;string value&quot;:&quot;HG01790&quot;},{&quot;string value&quot;:&quot;HG00141&quot;},{&quot;string value&quot;:&quot;NA19908&quot;},{&quot;string value&quot;:&quot;HG00100&quot;},{&quot;string value&quot;:&quot;NA20321&quot;},{&quot;string value&quot;:&quot;NA18749&quot;},{&quot;string value&quot;:&quot;HG00111&quot;},{&quot;string value&quot;:&quot;HG00129&quot;},{&quot;string value&quot;:&quot;NA18640&quot;},{&quot;string value&quot;:&quot;NA20317&quot;},{&quot;string value&quot;:&quot;HG00154&quot;},{&quot;string value&quot;:&quot;HG00114&quot;},{&quot;string value&quot;:&quot;HG00244&quot;},{&quot;string value&quot;:&quot;NA19625&quot;},{&quot;string value&quot;:&quot;NA18646&quot;},{&quot;string value&quot;:&quot;NA18560&quot;},{&quot;string value&quot;:&quot;NA20299&quot;},{&quot;string value&quot;:&quot;HG00143&quot;},{&quot;string value&quot;:&quot;NA20339&quot;},{&quot;string value&quot;:&quot;HG00132&quot;},{&quot;string value&quot;:&quot;NA18565&quot;},{&quot;string value&quot;:&quot;NA19913&quot;},{&quot;string value&quot;:&quot;HG00125&quot;},{&quot;string value&quot;:&quot;HG00110&quot;},{&quot;string value&quot;:&quot;NA18543&quot;},{&quot;string value&quot;:&quot;HG00113&quot;},{&quot;string value&quot;:&quot;HG00261&quot;},{&quot;string value&quot;:&quot;NA19704&quot;},{&quot;string value&quot;:&quot;NA18572&quot;},{&quot;string value&quot;:&quot;HG00259&quot;},{&quot;string value&quot;:&quot;NA18624&quot;},{&quot;string value&quot;:&quot;HG00233&quot;},{&quot;string value&quot;:&quot;HG00108&quot;},{&quot;string value&quot;:&quot;HG00136&quot;},{&quot;string value&quot;:&quot;HG00260&quot;},{&quot;string value&quot;:&quot;NA18533&quot;},{&quot;string value&quot;:&quot;HG00121&quot;},{&quot;string value&quot;:&quot;NA18635&quot;},{&quot;string value&quot;:&quot;NA18606&quot;},{&quot;string value&quot;:&quot;HG00255&quot;},{&quot;string value&quot;:&quot;NA18747&quot;},{&quot;string value&quot;:&quot;HG00131&quot;},{&quot;string value&quot;:&quot;NA19923&quot;},{&quot;string value&quot;:&quot;NA18639&quot;},{&quot;string value&quot;:&quot;NA18558&quot;},{&quot;string value&quot;:&quot;HG00120&quot;},{&quot;string value&quot;:&quot;HG00155&quot;},{&quot;string value&quot;:&quot;NA18537&quot;},{&quot;string value&quot;:&quot;HG01791&quot;},{&quot;string value&quot;:&quot;HG02215&quot;},{&quot;string value&quot;:&quot;NA19909&quot;},{&quot;string value&quot;:&quot;HG00250&quot;},{&quot;string value&quot;:&quot;NA20127&quot;},{&quot;string value&quot;:&quot;NA18642&quot;},{&quot;string value&quot;:&quot;NA18602&quot;},{&quot;string value&quot;:&quot;NA18612&quot;},{&quot;string value&quot;:&quot;NA18628&quot;},{&quot;string value&quot;:&quot;NA18561&quot;},{&quot;string value&quot;:&quot;NA20298&quot;},{&quot;string value&quot;:&quot;HG01334&quot;},{&quot;string value&quot;:&quot;HG00102&quot;},{&quot;string value&quot;:&quot;NA18748&quot;},{&quot;string value&quot;:&quot;HG00142&quot;},{&quot;string value&quot;:&quot;NA20282&quot;},{&quot;string value&quot;:&quot;NA18547&quot;},{&quot;string value&quot;:&quot;NA20276&quot;},{&quot;string value&quot;:&quot;HG00236&quot;},{&quot;string value&quot;:&quot;NA18530&quot;},{&quot;string value&quot;:&quot;NA18617&quot;},{&quot;string value&quot;:&quot;NA20287&quot;}],&quot;genId&quot;:&quot;151047068&quot;}\" type=\"text/x-scoped-javascript\">/*<![CDATA[*/req(['../javascripts/notebook/playground','../javascripts/notebook/magic/pivotChart'], \n      function(playground, _magicpivotChart) {\n        // data ==> data-this (in observable.js's scopedEval) ==> this in JS => { dataId, dataInit, ... }\n        // this ==> scope (in observable.js's scopedEval) ==> this.parentElement ==> div.container below (toHtml)\n\n        playground.call(data,\n                        this\n                        ,\n                        {\n    \"f\": _magicpivotChart,\n    \"o\": {\"width\":600,\"height\":400,\"derivedAttributes\":{},\"extraOptions\":{}}\n  }\n  \n                        \n                        \n                      );\n      }\n    );/*]]>*/</script>\n    <div>\n      <span class=\"chart-total-item-count\"><p data-bind=\"text: value\"><script data-this=\"{&quot;valueId&quot;:&quot;anond18b105533fcdb9c9f883d04ac3f905a&quot;,&quot;initialValue&quot;:&quot;255&quot;}\" type=\"text/x-scoped-javascript\">/*<![CDATA[*/\nreq(\n['observable', 'knockout'],\nfunction (O, ko) {\n  ko.applyBindings({\n      value: O.makeObservable(valueId, initialValue)\n    },\n    this\n  );\n});\n        /*]]>*/</script></p> entries total</span>\n      <span class=\"chart-sampling-warning\"><p data-bind=\"text: value\"><script data-this=\"{&quot;valueId&quot;:&quot;anon96626f42464348496a1e02bb7a4fceba&quot;,&quot;initialValue&quot;:&quot;&quot;}\" type=\"text/x-scoped-javascript\">/*<![CDATA[*/\nreq(\n['observable', 'knockout'],\nfunction (O, ko) {\n  ko.applyBindings({\n      value: O.makeObservable(valueId, initialValue)\n    },\n    this\n  );\n});\n        /*]]>*/</script></p></span>\n      <div>\n      </div>\n    </div></div>\n            </div></div>\n      </div>\n    </div></div>"
      },
      "output_type" : "execute_result",
      "execution_count" : 6,
      "time" : "Took: 1 second 907 milliseconds, at 2018-4-17 2:10"
    } ]
  }, {
    "metadata" : {
      "trusted" : true,
      "input_collapsed" : false,
      "collapsed" : false,
      "id" : "FBF8126E585F4DE2800579641DA86343"
    },
    "cell_type" : "code",
    "source" : "val finalDF = rawDF.filter($\"sampleId\" isin(panelSamples:_*))",
    "outputs" : [ {
      "name" : "stdout",
      "output_type" : "stream",
      "text" : "finalDF: org.apache.spark.sql.Dataset[org.apache.spark.sql.Row] = [sampleId: string, variantId: string ... 1 more field]\n"
    }, {
      "metadata" : { },
      "data" : {
        "text/html" : ""
      },
      "output_type" : "execute_result",
      "execution_count" : 7,
      "time" : "Took: 1 second 711 milliseconds, at 2018-4-17 2:10"
    } ]
  }, {
    "metadata" : {
      "trusted" : true,
      "input_collapsed" : false,
      "collapsed" : false,
      "presentation" : {
        "tabs_state" : "{\n  \"tab_id\": \"#tab68947394-0\"\n}",
        "pivot_chart_state" : "{\n  \"hiddenAttributes\": [],\n  \"menuLimit\": 200,\n  \"cols\": [],\n  \"rows\": [],\n  \"vals\": [],\n  \"exclusions\": {},\n  \"inclusions\": {},\n  \"unusedAttrsVertical\": 85,\n  \"autoSortUnusedAttrs\": false,\n  \"inclusionsInfo\": {},\n  \"aggregatorName\": \"Count\",\n  \"rendererName\": \"Table\"\n}"
      },
      "id" : "60EC11095A04401181B8CEEECB0B8A59"
    },
    "cell_type" : "code",
    "source" : "finalDF",
    "outputs" : [ {
      "name" : "stdout",
      "output_type" : "stream",
      "text" : "res10: org.apache.spark.sql.Dataset[org.apache.spark.sql.Row] = [sampleId: string, variantId: string ... 1 more field]\n"
    }, {
      "metadata" : { },
      "data" : {
        "text/html" : "<div class=\"df-canvas\">\n      <script data-this=\"{&quot;dataId&quot;:&quot;anon407521d8f02fc1d460b53104da66173c&quot;,&quot;partitionIndexId&quot;:&quot;anon7a22491818390b7239886ef372a6d114&quot;,&quot;numPartitions&quot;:85232,&quot;dfSchema&quot;:{&quot;type&quot;:&quot;struct&quot;,&quot;fields&quot;:[{&quot;name&quot;:&quot;sampleId&quot;,&quot;type&quot;:&quot;string&quot;,&quot;nullable&quot;:true,&quot;metadata&quot;:{}},{&quot;name&quot;:&quot;variantId&quot;,&quot;type&quot;:&quot;string&quot;,&quot;nullable&quot;:true,&quot;metadata&quot;:{}},{&quot;name&quot;:&quot;genotype&quot;,&quot;type&quot;:&quot;double&quot;,&quot;nullable&quot;:true,&quot;metadata&quot;:{}}]}}\" type=\"text/x-scoped-javascript\">/*<![CDATA[*/req(['../javascripts/notebook/dataframe','../javascripts/notebook/consoleDir'], \n      function(dataframe, extension) {\n        dataframe.call(data, this, extension);\n      }\n    );/*]]>*/</script>\n      <link rel=\"stylesheet\" href=\"/assets/stylesheets/ipython/css/dataframe.css\" type=\"text/css\"/>\n    </div>"
      },
      "output_type" : "execute_result",
      "execution_count" : 8,
      "time" : "Took: 24 seconds 856 milliseconds, at 2018-4-17 2:6"
    } ]
  }, {
    "metadata" : {
      "trusted" : true,
      "input_collapsed" : false,
      "collapsed" : false,
      "id" : "2FDF55C080DB454492D00C688D119241"
    },
    "cell_type" : "code",
    "source" : "val sampleCount = finalDF.select($\"sampleId\").distinct.count\ns\"#Samples: $sampleCount\"",
    "outputs" : [ {
      "name" : "stdout",
      "output_type" : "stream",
      "text" : "sampleCount: Long = 255\nres10: String = #Samples: 255\n"
    }, {
      "metadata" : { },
      "data" : {
        "text/html" : "#Samples: 255"
      },
      "output_type" : "execute_result",
      "execution_count" : 8,
      "time" : "Took: 5 seconds 484 milliseconds, at 2018-4-17 2:11"
    } ]
  }, {
    "metadata" : {
      "trusted" : true,
      "input_collapsed" : false,
      "collapsed" : false,
      "id" : "37A0F16CE9C548BB86C71E1E9BF66A43"
    },
    "cell_type" : "code",
    "source" : "val selectedVariants = finalDF.groupBy($\"variantId\").count.filter($\"count\" === sampleCount).select(\"variantId\")",
    "outputs" : [ {
      "name" : "stdout",
      "output_type" : "stream",
      "text" : "selectedVariants: org.apache.spark.sql.DataFrame = [variantId: string]\n"
    }, {
      "metadata" : { },
      "data" : {
        "text/html" : ""
      },
      "output_type" : "execute_result",
      "execution_count" : 9,
      "time" : "Took: 1 second 338 milliseconds, at 2018-4-17 2:11"
    } ]
  }, {
    "metadata" : {
      "trusted" : true,
      "input_collapsed" : false,
      "collapsed" : false,
      "id" : "07B7E7E372734CAD8AE867D81F1D47F3"
    },
    "cell_type" : "code",
    "source" : "val completeDF = finalDF.join(selectedVariants, finalDF(\"variantId\") === selectedVariants(\"variantId\"))\n                        .select($\"sampleId\",finalDF(\"variantId\"),$\"genotype\")",
    "outputs" : [ {
      "name" : "stdout",
      "output_type" : "stream",
      "text" : "completeDF: org.apache.spark.sql.DataFrame = [sampleId: string, variantId: string ... 1 more field]\n"
    }, {
      "metadata" : { },
      "data" : {
        "text/html" : ""
      },
      "output_type" : "execute_result",
      "execution_count" : 10,
      "time" : "Took: 1 second 364 milliseconds, at 2018-4-17 2:11"
    } ]
  }, {
    "metadata" : {
      "trusted" : true,
      "input_collapsed" : false,
      "collapsed" : false,
      "id" : "2B6B7C816418428D9FD5F5AB93F8F2E4"
    },
    "cell_type" : "code",
    "source" : "val genoTable = completeDF.groupBy($\"sampleId\").pivot(\"variantId\").agg(max(\"genotype\"))",
    "outputs" : [ {
      "name" : "stdout",
      "output_type" : "stream",
      "text" : "genoTable: org.apache.spark.sql.DataFrame = [sampleId: string, 6:1000012:1000013: double ... 8238 more fields]\n"
    }, {
      "metadata" : { },
      "data" : {
        "text/html" : ""
      },
      "output_type" : "execute_result",
      "execution_count" : 11,
      "time" : "Took: 14 seconds 392 milliseconds, at 2018-4-17 2:11"
    } ]
  }, {
    "metadata" : {
      "trusted" : true,
      "input_collapsed" : false,
      "collapsed" : false,
      "presentation" : {
        "tabs_state" : "{\n  \"tab_id\": \"#tab1732441315-0\"\n}",
        "pivot_chart_state" : "{\n  \"hiddenAttributes\": [],\n  \"menuLimit\": 200,\n  \"cols\": [],\n  \"rows\": [],\n  \"vals\": [],\n  \"exclusions\": {},\n  \"inclusions\": {},\n  \"unusedAttrsVertical\": 85,\n  \"autoSortUnusedAttrs\": false,\n  \"inclusionsInfo\": {},\n  \"aggregatorName\": \"Count\",\n  \"rendererName\": \"Table\"\n}"
      },
      "id" : "9613289FCA604A2AB5C89EEF8A420E54"
    },
    "cell_type" : "code",
    "source" : "val featuresCols = genoTable.columns.drop(1)",
    "outputs" : [ {
      "name" : "stdout",
      "output_type" : "stream",
      "text" : "featuresCols: Array[String] = Array(6:1000012:1000013, 6:1000110:1000111, 6:1000153:1000154, 6:1000166:1000167, 6:1000169:1000170, 6:1000174:1000175, 6:1000222:1000223, 6:1000279:1000280, 6:1000310:1000311, 6:1000350:1000351, 6:1000407:1000408, 6:1000458:1000459, 6:1000459:1000460, 6:1000475:1000476, 6:1000490:1000491, 6:1000524:1000525, 6:1000536:1000537, 6:1000542:1000543, 6:1000603:1000604, 6:1000716:1000717, 6:1000731:1000732, 6:1000755:1000761, 6:1000816:1000817, 6:1000878:1000879, 6:1000882:1000883, 6:1000883:1000884, 6:1000902:1000905, 6:1000904:1020635, 6:1000908:1000909, 6:1000909:1000910, 6:1001029:1001030, 6:1001082:1001083, 6:1001168:1001169, 6:1001206:1001207, 6:1001209:1001210, 6:1001210:1001211, 6:1001229:1001230, 6:1001247:1001248, 6:1001260:1001261, 6:1001277:1001278, 6..."
    }, {
      "metadata" : { },
      "data" : {
        "text/html" : ""
      },
      "output_type" : "execute_result",
      "execution_count" : 12,
      "time" : "Took: 1 second 247 milliseconds, at 2018-4-17 2:11"
    } ]
  }, {
    "metadata" : {
      "trusted" : true,
      "input_collapsed" : false,
      "collapsed" : false,
      "id" : "5C77A182CDFF4339830845D88D865555"
    },
    "cell_type" : "code",
    "source" : "import org.apache.spark.ml.feature.VectorAssembler\n\nval assembler = new VectorAssembler()\n  .setInputCols(featuresCols)\n  .setOutputCol(\"features\")",
    "outputs" : [ {
      "name" : "stdout",
      "output_type" : "stream",
      "text" : "import org.apache.spark.ml.feature.VectorAssembler\nassembler: org.apache.spark.ml.feature.VectorAssembler = vecAssembler_f4d25fcc18ab\n"
    }, {
      "metadata" : { },
      "data" : {
        "text/html" : ""
      },
      "output_type" : "execute_result",
      "execution_count" : 13,
      "time" : "Took: 1 second 253 milliseconds, at 2018-4-17 2:11"
    } ]
  }, {
    "metadata" : {
      "trusted" : true,
      "input_collapsed" : false,
      "collapsed" : true,
      "id" : "EF7F93D970FE43A68AAA764E482DB5D2"
    },
    "cell_type" : "code",
    "source" : "val trainingSet = assembler.transform(genoTable).select(\"sampleId\", \"features\")\ntrainingSet.cache()\ntrainingSet.write.parquet(\"/tmp/genome.training.parquet\")\n",
    "outputs" : [ ]
  }, {
    "metadata" : {
      "trusted" : true,
      "input_collapsed" : false,
      "collapsed" : false,
      "id" : "A8CAE29326B54E699A50A2A6B663931D"
    },
    "cell_type" : "code",
    "source" : "import org.apache.spark.ml.clustering.KMeans\n//import org.apache.spark.ml.evaluation.ClusteringEvaluator\n",
    "outputs" : [ {
      "name" : "stdout",
      "output_type" : "stream",
      "text" : "import org.apache.spark.ml.clustering.KMeans\n"
    }, {
      "metadata" : { },
      "data" : {
        "text/html" : ""
      },
      "output_type" : "execute_result",
      "execution_count" : 19,
      "time" : "Took: 1 second 385 milliseconds, at 2018-4-17 1:59"
    } ]
  }, {
    "metadata" : {
      "trusted" : true,
      "input_collapsed" : false,
      "collapsed" : true,
      "id" : "80275C65AD374228A8E97D8E3021AA5F"
    },
    "cell_type" : "code",
    "source" : "val kmeans = new KMeans().setK(3).setSeed(1L)\nval model = kmeans.fit(trainingSet)\n\n// Make predictions\nval predictions = model.transform(trainingSet)",
    "outputs" : [ ]
  }, {
    "metadata" : {
      "trusted" : true,
      "input_collapsed" : false,
      "collapsed" : true,
      "id" : "5CCC39AD03834602A7F018057F20B3B2"
    },
    "cell_type" : "code",
    "source" : "",
    "outputs" : [ ]
  }, {
    "metadata" : {
      "trusted" : true,
      "input_collapsed" : false,
      "collapsed" : true,
      "id" : "CE97421809AB4E9EB009DA564BBD6CF2"
    },
    "cell_type" : "code",
    "source" : "val confMat = predictions.collect.toMap.values\n    .groupBy(_._2).mapValues(_.map(_._1))\n    .mapValues(xs => (1 to 3).map( i => xs.count(_ == i-1)).toList)",
    "outputs" : [ ]
  }, {
    "metadata" : {
      "trusted" : true,
      "input_collapsed" : false,
      "collapsed" : true,
      "id" : "CDDDB0FD848C494D8EDBEB3C08FC5A85"
    },
    "cell_type" : "code",
    "source" : "<table>\n<tr><td></td><td>#0</td><td>#1</td><td>#2</td></tr>\n{ for (popu <- confMat) yield\n  <tr><td>{popu._1}</td> { for (cnt <- popu._2) yield \n    <td>{cnt}</td>\n  }\n  </tr>\n}\n</table>",
    "outputs" : [ ]
  } ],
  "nbformat" : 4
}