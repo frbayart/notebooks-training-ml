{
  "metadata" : {
    "name" : "ConvertToAdam",
    "user_save_timestamp" : "1970-01-01T01:00:00.000Z",
    "auto_save_timestamp" : "1970-01-01T01:00:00.000Z",
    "language_info" : {
      "name" : "scala",
      "file_extension" : "scala",
      "codemirror_mode" : "text/x-scala"
    },
    "trusted" : true,
    "customLocalRepo" : "${HOME}/.m2",
    "customRepos" : null,
    "customDeps" : [ "org.bdgenomics.adam %% adam-core % 0.23.0", "org.apache.parquet % parquet-hadoop % 1.7.0", "org.apache.commons % commons-compress % 1.8.1", "- org.apache.hadoop % hadoop-client %  _", "- org.apache.spark  % spark-core    %   _", "- org.scala-lang    %     _         %   _", "- org.scoverage     %     _         %   _", "org.apache.spark  %  spark-mllib_2.11  % 2.0.2" ],
    "customImports" : null,
    "customArgs" : null,
    "customSparkConf" : {
      "spark.serializer" : "org.apache.spark.serializer.KryoSerializer",
      "spark.kryo.registrator" : "org.bdgenomics.adam.serialization.ADAMKryoRegistrator",
      "spark.kryoserializer.buffer.mb" : "4",
      "spark.kryo.referenceTracking" : "true",
      "spark.executor.memory" : "3g"
    }
  },
  "cells" : [ {
    "metadata" : {
      "id" : "C1435E02DAA047FA99DA1A31355C0915"
    },
    "cell_type" : "markdown",
    "source" : "## Raw VCF files conversion to ADAM format (avro parquet files)\n\nWe start with some imports rtealted to Spark and ADAM library (www.bdgenomics.org)"
  }, {
    "metadata" : {
      "trusted" : true,
      "input_collapsed" : false,
      "collapsed" : false,
      "id" : "FB7C40868F624D908441286F66BA7E81"
    },
    "cell_type" : "code",
    "source" : "import org.apache.hadoop.fs.{FileSystem, Path}\n//import org.bdgenomics.adam.converters.{ VCFLine, VCFLineConverter, VCFLineParser }\nimport org.bdgenomics.formats.avro.{Genotype}\nimport org.bdgenomics.adam.models.VariantContext\nimport org.bdgenomics.adam.rdd.ADAMContext._\nimport org.bdgenomics.adam.rdd.ADAMContext\nimport org.apache.spark.rdd.RDD",
    "outputs" : [ ]
  }, {
    "metadata" : {
      "id" : "4038BAB71A01480686F132BCA3AE7F61"
    },
    "cell_type" : "markdown",
    "source" : "Download a prepared genbotype data sample taken from the 1000 genomes project (see EBI tools)"
  }, {
    "metadata" : {
      "trusted" : true,
      "input_collapsed" : false,
      "collapsed" : false,
      "id" : "775C1F4F7E1445F1B4DB97F09160E1EC"
    },
    "cell_type" : "code",
    "source" : "val vcf = \"/tmp/6-sample.vcf\"",
    "outputs" : [ ]
  }, {
    "metadata" : {
      "trusted" : true,
      "input_collapsed" : false,
      "collapsed" : true,
      "id" : "E5195CAD4C6D4EE18255CA0520680753"
    },
    "cell_type" : "code",
    "source" : "import sys.process._\nif (!new java.io.File(vcf).exists) {\n  new java.net.URL(\"http://med-at-scale.s3.amazonaws.com/samples/6-sample.vcf\")  #> new java.io.File(vcf) !!\n}\n",
    "outputs" : [ ]
  }, {
    "metadata" : {
      "trusted" : true,
      "input_collapsed" : false,
      "collapsed" : true,
      "id" : "AA303632B724416B949BB5949C1D375C"
    },
    "cell_type" : "code",
    "source" : ":sh ls -lh /tmp/6-sample.vcf",
    "outputs" : [ ]
  }, {
    "metadata" : {
      "id" : "7718379D4FEF407A881571772C8087A7"
    },
    "cell_type" : "markdown",
    "source" : "### Read data using ADAM Library"
  }, {
    "metadata" : {
      "trusted" : true,
      "input_collapsed" : false,
      "collapsed" : false,
      "id" : "BBA7441EE0EC42CC808345ACE3CB25DA"
    },
    "cell_type" : "code",
    "source" : "val gts = sparkContext.loadGenotypes(vcf)",
    "outputs" : [ ]
  }, {
    "metadata" : {
      "trusted" : true,
      "input_collapsed" : false,
      "collapsed" : false,
      "id" : "CFDAFAC3D6964C39BF44BA40EF0596EE"
    },
    "cell_type" : "code",
    "source" : "val localAdam = vcf+\"6\"+\".adam\"",
    "outputs" : [ ]
  }, {
    "metadata" : {
      "trusted" : true,
      "input_collapsed" : false,
      "collapsed" : false,
      "id" : "5F7C34085E984A0889DD1935572A5EDF"
    },
    "cell_type" : "code",
    "source" : "import org.bdgenomics.adam.rdd.ADAMContext._\ngts.saveAsParquet(localAdam)\n",
    "outputs" : [ ]
  } ],
  "nbformat" : 4
}