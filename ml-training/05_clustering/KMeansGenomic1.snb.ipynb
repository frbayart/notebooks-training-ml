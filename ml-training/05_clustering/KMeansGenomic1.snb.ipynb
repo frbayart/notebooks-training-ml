{
  "metadata" : {
    "name" : "KMeansGenomic1",
    "user_save_timestamp" : "1970-01-01T01:00:00.000Z",
    "auto_save_timestamp" : "1970-01-01T01:00:00.000Z",
    "language_info" : {
      "name" : "scala",
      "file_extension" : "scala",
      "codemirror_mode" : "text/x-scala"
    },
    "trusted" : true,
    "customLocalRepo" : "${HOME}/.m2",
    "customRepos" : null,
    "customDeps" : [ ],
    "customImports" : null,
    "customArgs" : null,
    "customSparkConf" : {
      "spark.sql.shuffle.partitions" : "10",
      "spark.exacutoir.memory" : "6g"
    }
  },
  "cells" : [ {
    "metadata" : {
      "id" : "C1435E02DAA047FA99DA1A31355C0915"
    },
    "cell_type" : "markdown",
    "source" : "## Raw parquet file reading"
  }, {
    "metadata" : {
      "trusted" : true,
      "input_collapsed" : false,
      "collapsed" : false,
      "id" : "FB7C40868F624D908441286F66BA7E81"
    },
    "cell_type" : "code",
    "source" : "val vcf = \"/tmp/6-sample.vcf\"\nval localParquet = vcf+\"6\"+\".parquet\"",
    "outputs" : [ ]
  }, {
    "metadata" : {
      "trusted" : true,
      "input_collapsed" : false,
      "collapsed" : false,
      "id" : "775C1F4F7E1445F1B4DB97F09160E1EC"
    },
    "cell_type" : "code",
    "source" : "val rawDF = sparkSession.read.parquet(localParquet)",
    "outputs" : [ ]
  }, {
    "metadata" : {
      "trusted" : true,
      "input_collapsed" : false,
      "collapsed" : false,
      "id" : "6F3DD15A0F2D4F65A8B62151FDAC6C74"
    },
    "cell_type" : "code",
    "source" : "// populations to select\nval pops = Set(\"GBR\", \"ASW\", \"CHB\")",
    "outputs" : [ ]
  }, {
    "metadata" : {
      "trusted" : true,
      "input_collapsed" : false,
      "collapsed" : false,
      "id" : "783077B152EB4DCA91F90D056BF4FCA3"
    },
    "cell_type" : "code",
    "source" : "import sys.process._\n\nval panelFile = \"/tmp/ALL.panel\"\n\ns\"wget ftp://ftp.1000genomes.ebi.ac.uk/vol1/ftp/release/20130502/integrated_call_samples_v3.20130502.ALL.panel -O ${panelFile}\"!!",
    "outputs" : [ ]
  }, {
    "metadata" : {
      "trusted" : true,
      "input_collapsed" : false,
      "collapsed" : false,
      "id" : "F3735AD83F824FE08F257E6412C5CBFB"
    },
    "cell_type" : "code",
    "source" : "import scala.io.Source\ndef extract(filter: (String, String) => Boolean= (s, t) => true) = Source.fromFile(panelFile).getLines().map( line => {\n  val toks = line.split(\"\\t\").toList\n  toks(0) -> toks(1)\n}).toMap.filter( tup => filter(tup._1, tup._2) )\n  \n// panel extract from file, filtering by the 2 populations\nval panel: Map[String,String] = \n  extract((sampleID: String, pop: String) => pops.contains(pop)) \n  \nval panelSamples = panel.keys.toList\n// broadcast the panel \nval bPanel = sparkContext.broadcast(panel)",
    "outputs" : [ ]
  }, {
    "metadata" : {
      "trusted" : true,
      "input_collapsed" : false,
      "collapsed" : false,
      "presentation" : {
        "tabs_state" : "{\n  \"tab_id\": \"#tab1243371460-0\"\n}",
        "pivot_chart_state" : "{\n  \"hiddenAttributes\": [],\n  \"menuLimit\": 200,\n  \"cols\": [],\n  \"rows\": [],\n  \"vals\": [],\n  \"exclusions\": {},\n  \"inclusions\": {},\n  \"unusedAttrsVertical\": 85,\n  \"autoSortUnusedAttrs\": false,\n  \"inclusionsInfo\": {},\n  \"aggregatorName\": \"Count\",\n  \"rendererName\": \"Table\"\n}"
      },
      "id" : "5731B3A362534186B34EBC1BC803EA56"
    },
    "cell_type" : "code",
    "source" : "panelSamples",
    "outputs" : [ ]
  }, {
    "metadata" : {
      "trusted" : true,
      "input_collapsed" : false,
      "collapsed" : false,
      "id" : "FBF8126E585F4DE2800579641DA86343"
    },
    "cell_type" : "code",
    "source" : "val finalDF = rawDF.filter($\"sampleId\" isin(panelSamples:_*))",
    "outputs" : [ ]
  }, {
    "metadata" : {
      "trusted" : true,
      "input_collapsed" : false,
      "collapsed" : false,
      "presentation" : {
        "tabs_state" : "{\n  \"tab_id\": \"#tab68947394-0\"\n}",
        "pivot_chart_state" : "{\n  \"hiddenAttributes\": [],\n  \"menuLimit\": 200,\n  \"cols\": [],\n  \"rows\": [],\n  \"vals\": [],\n  \"exclusions\": {},\n  \"inclusions\": {},\n  \"unusedAttrsVertical\": 85,\n  \"autoSortUnusedAttrs\": false,\n  \"inclusionsInfo\": {},\n  \"aggregatorName\": \"Count\",\n  \"rendererName\": \"Table\"\n}"
      },
      "id" : "60EC11095A04401181B8CEEECB0B8A59"
    },
    "cell_type" : "code",
    "source" : "finalDF",
    "outputs" : [ ]
  }, {
    "metadata" : {
      "trusted" : true,
      "input_collapsed" : false,
      "collapsed" : false,
      "id" : "2FDF55C080DB454492D00C688D119241"
    },
    "cell_type" : "code",
    "source" : "val sampleCount = finalDF.select($\"sampleId\").distinct.count\ns\"#Samples: $sampleCount\"",
    "outputs" : [ ]
  }, {
    "metadata" : {
      "trusted" : true,
      "input_collapsed" : false,
      "collapsed" : false,
      "id" : "37A0F16CE9C548BB86C71E1E9BF66A43"
    },
    "cell_type" : "code",
    "source" : "val selectedVariants = finalDF.groupBy($\"variantId\").count.filter($\"count\" === sampleCount).select(\"variantId\")",
    "outputs" : [ ]
  }, {
    "metadata" : {
      "trusted" : true,
      "input_collapsed" : false,
      "collapsed" : false,
      "id" : "07B7E7E372734CAD8AE867D81F1D47F3"
    },
    "cell_type" : "code",
    "source" : "val completeDF = finalDF.join(selectedVariants, finalDF(\"variantId\") === selectedVariants(\"variantId\"))\n                        .select($\"sampleId\",finalDF(\"variantId\"),$\"genotype\")",
    "outputs" : [ ]
  }, {
    "metadata" : {
      "trusted" : true,
      "input_collapsed" : false,
      "collapsed" : false,
      "id" : "73FD445EF1B145A885A526DE21C4955C"
    },
    "cell_type" : "code",
    "source" : ":sh rm -rf /tmp/genome.flat.parquet",
    "outputs" : [ ]
  }, {
    "metadata" : {
      "trusted" : true,
      "input_collapsed" : false,
      "collapsed" : false,
      "id" : "A97F6D7A1FFD44DD81203F753F228320"
    },
    "cell_type" : "code",
    "source" : "completeDF.cache()\ncompleteDF.write.parquet(\"/tmp/genome.flat.parquet\")",
    "outputs" : [ ]
  }, {
    "metadata" : {
      "id" : "74E6856A7F8B432B8BEF079D55AC3E61"
    },
    "cell_type" : "markdown",
    "source" : "### Pivot with RDD API..."
  }, {
    "metadata" : {
      "trusted" : true,
      "input_collapsed" : false,
      "collapsed" : false,
      "id" : "52442B3EE9E642DC8EC38CE6D3D1284E"
    },
    "cell_type" : "code",
    "source" : "val groupedRDD = completeDF.rdd.map{ r =>\n             (r.getAs[String](\"sampleId\"), (r.getAs[Double](\"genotype\"), r.getAs[String](\"variantId\")))\n              }.groupByKey",
    "outputs" : [ ]
  }, {
    "metadata" : {
      "trusted" : true,
      "input_collapsed" : false,
      "collapsed" : false,
      "id" : "15E62909033D4326AF5AC775D2F786C1"
    },
    "cell_type" : "code",
    "source" : "import org.apache.spark.mllib.linalg.{Vector=>MLVector, Vectors}\n\ndef makeSortedVector(gts: Iterable[(Double, String)]): MLVector = Vectors.dense( gts.toArray.sortBy(_._2).map(_._1) )\n\nval dataPerSampleId:RDD[(String, MLVector)] =\n    groupedRDD.mapValues { it =>\n        makeSortedVector(it)\n    }\n\nval dataFrame:RDD[MLVector] = dataPerSampleId.values",
    "outputs" : [ ]
  }, {
    "metadata" : {
      "trusted" : true,
      "input_collapsed" : false,
      "collapsed" : false,
      "id" : "DF9759D598EF4AFB8FC2FED1038CEA2E"
    },
    "cell_type" : "code",
    "source" : "import org.apache.spark.mllib.clustering.{KMeans,KMeansModel}\nval model: KMeansModel = KMeans.train(dataFrame, 3, 10)",
    "outputs" : [ ]
  }, {
    "metadata" : {
      "trusted" : true,
      "input_collapsed" : false,
      "collapsed" : false,
      "id" : "730B8EA500D3452A8C9953069076576D"
    },
    "cell_type" : "code",
    "source" : "val predictions: RDD[(String, (Int, String))] = dataPerSampleId.map(elt => {\n    (elt._1, ( model.predict(elt._2), bPanel.value.getOrElse(elt._1, \"\"))) \n})",
    "outputs" : [ ]
  }, {
    "metadata" : {
      "trusted" : true,
      "input_collapsed" : false,
      "collapsed" : false,
      "id" : "FBA7E53FFBB1450B843E0CDBC859F60B"
    },
    "cell_type" : "code",
    "source" : "val confMat = predictions.collect.toMap.values\n    .groupBy(_._2).mapValues(_.map(_._1))\n    .mapValues(xs => (1 to 3).map( i => xs.count(_ == i-1)).toList)",
    "outputs" : [ ]
  }, {
    "metadata" : {
      "trusted" : true,
      "input_collapsed" : false,
      "collapsed" : false,
      "id" : "DD3F778472154B1699914F359E84D9D7"
    },
    "cell_type" : "code",
    "source" : "<table>\n<tr><td></td><td>#0</td><td>#1</td><td>#2</td></tr>\n{ for (popu <- confMat) yield\n  <tr><td>{popu._1}</td> { for (cnt <- popu._2) yield \n    <td>{cnt}</td>\n  }\n  </tr>\n}\n</table>",
    "outputs" : [ ]
  }, {
    "metadata" : {
      "trusted" : true,
      "input_collapsed" : false,
      "collapsed" : false,
      "id" : "2386C977F3B34D558F586E98BB3CF355"
    },
    "cell_type" : "code",
    "source" : "import org.apache.spark.ml.feature.PCA\nval seqAsVector = udf((xs: Seq[Double]) => org.apache.spark.ml.linalg.Vectors.dense(xs.toArray))\nval df = dataFrame.map(_.toArray.take(1000)).toDF(\"array\").withColumn(\"features\", seqAsVector($\"array\"))",
    "outputs" : [ ]
  }, {
    "metadata" : {
      "trusted" : true,
      "input_collapsed" : false,
      "collapsed" : false,
      "id" : "F027EE591EF74957873D38E58CA3263D"
    },
    "cell_type" : "code",
    "source" : "val pca = new PCA()\n  .setInputCol(\"features\")\n  .setOutputCol(\"pcaFeatures\")\n  .setK(3)\n  .fit(df)",
    "outputs" : [ ]
  }, {
    "metadata" : {
      "trusted" : true,
      "input_collapsed" : false,
      "collapsed" : false,
      "id" : "9B9159CE46004C56893CC4BB00789228"
    },
    "cell_type" : "code",
    "source" : "val result = pca.transform(df).select(\"pcaFeatures\")",
    "outputs" : [ ]
  }, {
    "metadata" : {
      "trusted" : true,
      "input_collapsed" : false,
      "collapsed" : false,
      "presentation" : {
        "tabs_state" : "{\n  \"tab_id\": \"#tab558230179-0\"\n}",
        "pivot_chart_state" : "{\n  \"hiddenAttributes\": [],\n  \"menuLimit\": 200,\n  \"cols\": [],\n  \"rows\": [],\n  \"vals\": [],\n  \"exclusions\": {},\n  \"inclusions\": {},\n  \"unusedAttrsVertical\": 85,\n  \"autoSortUnusedAttrs\": false,\n  \"inclusionsInfo\": {},\n  \"aggregatorName\": \"Count\",\n  \"rendererName\": \"Table\"\n}"
      },
      "id" : "89105A1DA98C40B1822C8279A13FD792"
    },
    "cell_type" : "code",
    "source" : "result.take(5)",
    "outputs" : [ ]
  }, {
    "metadata" : {
      "trusted" : true,
      "input_collapsed" : false,
      "collapsed" : false,
      "id" : "E5D396A0E8C344B5BA95E3F4F0CFA50A"
    },
    "cell_type" : "code",
    "source" : "import org.apache.spark.ml.clustering.KMeans",
    "outputs" : [ ]
  }, {
    "metadata" : {
      "trusted" : true,
      "input_collapsed" : false,
      "collapsed" : false,
      "id" : "28EF946F0EE74E8A8DBB7E838007FA3A"
    },
    "cell_type" : "code",
    "source" : "val kmeans = new org.apache.spark.ml.clustering.KMeans().setK(3).setFeaturesCol(\"pcaFeatures\").setSeed(1L)\nval model = kmeans.fit(result)",
    "outputs" : [ ]
  }, {
    "metadata" : {
      "id" : "42ECAC24CE92422AB8C5BFE30FAE6E1B"
    },
    "cell_type" : "markdown",
    "source" : "### TODO estimate a confusion matrix?"
  }, {
    "metadata" : {
      "trusted" : true,
      "input_collapsed" : false,
      "collapsed" : true,
      "id" : "261E0D6EA817413D8A6A1165EDF87D8A"
    },
    "cell_type" : "code",
    "source" : "",
    "outputs" : [ ]
  } ],
  "nbformat" : 4
}