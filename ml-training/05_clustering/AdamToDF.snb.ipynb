{
  "metadata" : {
    "name" : "AdamToDF",
    "user_save_timestamp" : "1970-01-01T01:00:00.000Z",
    "auto_save_timestamp" : "1970-01-01T01:00:00.000Z",
    "language_info" : {
      "name" : "scala",
      "file_extension" : "scala",
      "codemirror_mode" : "text/x-scala"
    },
    "trusted" : true,
    "customLocalRepo" : "${HOME}/.m2",
    "customRepos" : null,
    "customDeps" : [ "org.bdgenomics.adam %% adam-core % 0.23.0", "org.apache.parquet % parquet-hadoop % 1.7.0", "org.apache.commons % commons-compress % 1.8.1", "- org.apache.hadoop % hadoop-client %  _", "- org.scala-lang    %     _         %   _", "- org.scoverage     %     _         %   _", "org.apache.spark  %  spark-mllib_2.11  % 2.0.2", "org.apache.spark  %  spark-sql_2.11  % 2.0.2" ],
    "customImports" : null,
    "customArgs" : null,
    "customSparkConf" : {
      "spark.serializer" : "org.apache.spark.serializer.KryoSerializer",
      "spark.kryo.registrator" : "org.bdgenomics.adam.serialization.ADAMKryoRegistrator",
      "spark.kryoserializer.buffer.mb" : "4",
      "spark.kryo.referenceTracking" : "true",
      "spark.executor.memory" : "3g"
    }
  },
  "cells" : [ {
    "metadata" : {
      "id" : "C1435E02DAA047FA99DA1A31355C0915"
    },
    "cell_type" : "markdown",
    "source" : "## Raw VCF files conversion to ADAM format (avro parquet files)"
  }, {
    "metadata" : {
      "trusted" : true,
      "input_collapsed" : false,
      "collapsed" : false,
      "id" : "FB7C40868F624D908441286F66BA7E81"
    },
    "cell_type" : "code",
    "source" : "import org.apache.hadoop.fs.{FileSystem, Path}\n//import org.bdgenomics.adam.converters.{ VCFLine, VCFLineConverter, VCFLineParser }\nimport org.bdgenomics.formats.avro.{Genotype}\nimport org.bdgenomics.adam.models.VariantContext\nimport org.bdgenomics.adam.rdd.ADAMContext._\nimport org.bdgenomics.adam.rdd.ADAMContext\nimport org.apache.spark.rdd.RDD\n\nimport org.apache.spark.sql.DataFrame",
    "outputs" : [ ]
  }, {
    "metadata" : {
      "trusted" : true,
      "input_collapsed" : false,
      "collapsed" : false,
      "id" : "CFDAFAC3D6964C39BF44BA40EF0596EE"
    },
    "cell_type" : "code",
    "source" : "val vcf = \"/tmp/6-sample.vcf\"\nval localAdam = vcf+\"6\"+\".adam\"",
    "outputs" : [ ]
  }, {
    "metadata" : {
      "trusted" : true,
      "input_collapsed" : false,
      "collapsed" : false,
      "id" : "C3982E8E9AA8483C832CFF74EB61F05D"
    },
    "cell_type" : "code",
    "source" : "val gts = sparkContext.loadGenotypes(localAdam)",
    "outputs" : [ ]
  }, {
    "metadata" : {
      "trusted" : true,
      "input_collapsed" : false,
      "collapsed" : false,
      "presentation" : {
        "tabs_state" : "{\n  \"tab_id\": \"#tab1721120088-0\"\n}",
        "pivot_chart_state" : "{\n  \"hiddenAttributes\": [],\n  \"menuLimit\": 200,\n  \"cols\": [],\n  \"rows\": [],\n  \"vals\": [],\n  \"exclusions\": {},\n  \"inclusions\": {},\n  \"unusedAttrsVertical\": 85,\n  \"autoSortUnusedAttrs\": false,\n  \"inclusionsInfo\": {},\n  \"aggregatorName\": \"Count\",\n  \"rendererName\": \"Table\"\n}"
      },
      "id" : "D92BEC4F88EB444B8409ED9EE83C7207"
    },
    "cell_type" : "code",
    "source" : "gts.rdd.map(g =>  g.getSampleId).take(3)",
    "outputs" : [ ]
  }, {
    "metadata" : {
      "trusted" : true,
      "input_collapsed" : false,
      "collapsed" : false,
      "id" : "BA353BA0B14A42018A7EC32905FA3E38"
    },
    "cell_type" : "code",
    "source" : "val sampleCount = gts.rdd.map(_.getSampleId.toString.hashCode).distinct.count\ns\"#Samples: $sampleCount\"",
    "outputs" : [ ]
  }, {
    "metadata" : {
      "trusted" : true,
      "input_collapsed" : false,
      "collapsed" : false,
      "presentation" : {
        "tabs_state" : "{\n  \"tab_id\": \"#tab2023734380-0\"\n}",
        "pivot_chart_state" : "{\n  \"hiddenAttributes\": [],\n  \"menuLimit\": 200,\n  \"cols\": [],\n  \"rows\": [],\n  \"vals\": [],\n  \"exclusions\": {},\n  \"inclusions\": {},\n  \"unusedAttrsVertical\": 85,\n  \"autoSortUnusedAttrs\": false,\n  \"inclusionsInfo\": {},\n  \"aggregatorName\": \"Count\",\n  \"rendererName\": \"Table\"\n}"
      },
      "id" : "1F8C73D5D9E14D47B07F475B2070ACFA"
    },
    "cell_type" : "code",
    "source" : "import scala.collection.JavaConverters._\n\nval allal = gts.rdd.map{ g => (g.getVariant.getReferenceAllele, g.getAlleles.asScala.map(_.toString)) }.toDF.cache()\nallal.toDF(\"var\",\"coucou\").take(10)",
    "outputs" : [ ]
  }, {
    "metadata" : {
      "trusted" : true,
      "input_collapsed" : false,
      "collapsed" : false,
      "id" : "B2A0316453694556BD77E385F1F0B951"
    },
    "cell_type" : "code",
    "source" : "import scala.collection.JavaConverters._\nval genotypesDF = gts.rdd.map{ genotype => {\n  def asDouble(g:Genotype):Double = g.getAlleles.asScala.map(_.toString).count(_ != \"REF\")\n  def variantId(g:Genotype):String = {\n    val name = g.getVariant.contigName\n    val start = g.getVariant.getStart\n    val end = g.getVariant.getEnd\n    s\"$name:$start:$end\"\n  } \n  (genotype.getSampleId.toString,\n   variantId(genotype),\n   asDouble(genotype)\n   )\n}\n}.toDF(\"sampleId\",\"variantId\",\"genotype\")\n   ",
    "outputs" : [ ]
  }, {
    "metadata" : {
      "trusted" : true,
      "input_collapsed" : false,
      "collapsed" : true,
      "presentation" : {
        "tabs_state" : "{\n  \"tab_id\": \"#tab1257285638-0\"\n}",
        "pivot_chart_state" : "{\n  \"hiddenAttributes\": [],\n  \"menuLimit\": 200,\n  \"cols\": [],\n  \"rows\": [],\n  \"vals\": [],\n  \"exclusions\": {},\n  \"inclusions\": {},\n  \"unusedAttrsVertical\": 85,\n  \"autoSortUnusedAttrs\": false,\n  \"inclusionsInfo\": {},\n  \"aggregatorName\": \"Count\",\n  \"rendererName\": \"Table\"\n}"
      },
      "id" : "6E6C9BD2442C47B1BEE014F97876B30F"
    },
    "cell_type" : "code",
    "source" : "genotypesDF.schema",
    "outputs" : [ ]
  }, {
    "metadata" : {
      "trusted" : true,
      "input_collapsed" : false,
      "collapsed" : false,
      "id" : "DA3E0B74E01844C29A560420E9DC00A3"
    },
    "cell_type" : "code",
    "source" : "genotypesDF.write.parquet(vcf+\"6\"+\".parquet\")",
    "outputs" : [ ]
  }, {
    "metadata" : {
      "trusted" : true,
      "input_collapsed" : false,
      "collapsed" : false,
      "id" : "CC35168E611A4142A811D2D6B50E7176"
    },
    "cell_type" : "code",
    "source" : ":sh ls -lh ${vcf}6.parquet",
    "outputs" : [ ]
  }, {
    "metadata" : {
      "trusted" : true,
      "input_collapsed" : false,
      "collapsed" : false,
      "presentation" : {
        "tabs_state" : "{\n  \"tab_id\": \"#tab1535380136-0\"\n}",
        "pivot_chart_state" : "{\n  \"hiddenAttributes\": [],\n  \"menuLimit\": 200,\n  \"cols\": [],\n  \"rows\": [],\n  \"vals\": [],\n  \"exclusions\": {},\n  \"inclusions\": {},\n  \"unusedAttrsVertical\": 85,\n  \"autoSortUnusedAttrs\": false,\n  \"inclusionsInfo\": {},\n  \"aggregatorName\": \"Count\",\n  \"rendererName\": \"Table\"\n}"
      },
      "id" : "841C0B6645464F8482AADDFA62885779"
    },
    "cell_type" : "code",
    "source" : "genotypesDF.select(\"genotype\").distinct",
    "outputs" : [ ]
  }, {
    "metadata" : {
      "trusted" : true,
      "input_collapsed" : false,
      "collapsed" : true,
      "id" : "EB7F095EDC5343BC8460589028F07423"
    },
    "cell_type" : "code",
    "source" : "",
    "outputs" : [ ]
  } ],
  "nbformat" : 4
}